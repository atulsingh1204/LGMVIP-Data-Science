{
  "nbformat": 4,
  "nbformat_minor": 0,
  "metadata": {
    "colab": {
      "name": "LGMVIP Task 3.ipynb",
      "provenance": []
    },
    "kernelspec": {
      "name": "python3",
      "display_name": "Python 3"
    },
    "language_info": {
      "name": "python"
    }
  },
  "cells": [
    {
      "cell_type": "markdown",
      "metadata": {
        "id": "-ipg2aZvzFWt"
      },
      "source": [
        "#Task 3 : Exploratory Data Analysis on the Global Terrorism Dataset"
      ]
    },
    {
      "cell_type": "markdown",
      "metadata": {
        "id": "Rdsqx859zIhS"
      },
      "source": [
        " In this task, we will do Exploratory Data Analysis on terrorism dataset and find some insightful information out of the dataset."
      ]
    },
    {
      "cell_type": "markdown",
      "metadata": {
        "id": "RTGCsjDwzen6"
      },
      "source": [
        "#Importing the Libraries"
      ]
    },
    {
      "cell_type": "code",
      "metadata": {
        "id": "irRDLos8vqQX"
      },
      "source": [
        "import numpy as np\n",
        "import pandas as pd\n",
        "import matplotlib.pyplot as plt\n",
        "import seaborn as sns"
      ],
      "execution_count": 21,
      "outputs": []
    },
    {
      "cell_type": "code",
      "metadata": {
        "id": "uwOtlmNsy168"
      },
      "source": [
        "#Setting juypyter notebook to show a maximum of 5000 rows in output for each cell\n",
        "pd.options.display.max_rows = 5000 "
      ],
      "execution_count": 22,
      "outputs": []
    },
    {
      "cell_type": "code",
      "metadata": {
        "id": "WRCXy_epzoH9"
      },
      "source": [
        "#Jupyter Notebook will ignore all the warnings\n",
        "import warnings\n",
        "warnings.filterwarnings('ignore')    \n"
      ],
      "execution_count": 23,
      "outputs": []
    },
    {
      "cell_type": "markdown",
      "metadata": {
        "id": "5lfRj6IFzx2_"
      },
      "source": [
        "#Loading the Dataset"
      ]
    },
    {
      "cell_type": "code",
      "metadata": {
        "id": "1Uj5Trg357dQ"
      },
      "source": [
        "terror_data = pd.read_csv(\"globalterrorismdb_0718dist.csv\", encoding=\"ISO-8859-1\")"
      ],
      "execution_count": 24,
      "outputs": []
    },
    {
      "cell_type": "code",
      "metadata": {
        "colab": {
          "base_uri": "https://localhost:8080/",
          "height": 377
        },
        "id": "orb6zfeK6hvq",
        "outputId": "b8eb22c5-ddef-4072-8599-1af9aed3e67b"
      },
      "source": [
        "# Looking at first 5 rows of the dataset\n",
        "terror_data.head()"
      ],
      "execution_count": 25,
      "outputs": [
        {
          "output_type": "execute_result",
          "data": {
            "text/html": [
              "<div>\n",
              "<style scoped>\n",
              "    .dataframe tbody tr th:only-of-type {\n",
              "        vertical-align: middle;\n",
              "    }\n",
              "\n",
              "    .dataframe tbody tr th {\n",
              "        vertical-align: top;\n",
              "    }\n",
              "\n",
              "    .dataframe thead th {\n",
              "        text-align: right;\n",
              "    }\n",
              "</style>\n",
              "<table border=\"1\" class=\"dataframe\">\n",
              "  <thead>\n",
              "    <tr style=\"text-align: right;\">\n",
              "      <th></th>\n",
              "      <th>eventid</th>\n",
              "      <th>iyear</th>\n",
              "      <th>imonth</th>\n",
              "      <th>iday</th>\n",
              "      <th>approxdate</th>\n",
              "      <th>extended</th>\n",
              "      <th>resolution</th>\n",
              "      <th>country</th>\n",
              "      <th>country_txt</th>\n",
              "      <th>region</th>\n",
              "      <th>region_txt</th>\n",
              "      <th>provstate</th>\n",
              "      <th>city</th>\n",
              "      <th>latitude</th>\n",
              "      <th>longitude</th>\n",
              "      <th>specificity</th>\n",
              "      <th>vicinity</th>\n",
              "      <th>location</th>\n",
              "      <th>summary</th>\n",
              "      <th>crit1</th>\n",
              "      <th>crit2</th>\n",
              "      <th>crit3</th>\n",
              "      <th>doubtterr</th>\n",
              "      <th>alternative</th>\n",
              "      <th>alternative_txt</th>\n",
              "      <th>multiple</th>\n",
              "      <th>success</th>\n",
              "      <th>suicide</th>\n",
              "      <th>attacktype1</th>\n",
              "      <th>attacktype1_txt</th>\n",
              "      <th>attacktype2</th>\n",
              "      <th>attacktype2_txt</th>\n",
              "      <th>attacktype3</th>\n",
              "      <th>attacktype3_txt</th>\n",
              "      <th>targtype1</th>\n",
              "      <th>targtype1_txt</th>\n",
              "      <th>targsubtype1</th>\n",
              "      <th>targsubtype1_txt</th>\n",
              "      <th>corp1</th>\n",
              "      <th>target1</th>\n",
              "      <th>...</th>\n",
              "      <th>weapsubtype4</th>\n",
              "      <th>weapsubtype4_txt</th>\n",
              "      <th>weapdetail</th>\n",
              "      <th>nkill</th>\n",
              "      <th>nkillus</th>\n",
              "      <th>nkillter</th>\n",
              "      <th>nwound</th>\n",
              "      <th>nwoundus</th>\n",
              "      <th>nwoundte</th>\n",
              "      <th>property</th>\n",
              "      <th>propextent</th>\n",
              "      <th>propextent_txt</th>\n",
              "      <th>propvalue</th>\n",
              "      <th>propcomment</th>\n",
              "      <th>ishostkid</th>\n",
              "      <th>nhostkid</th>\n",
              "      <th>nhostkidus</th>\n",
              "      <th>nhours</th>\n",
              "      <th>ndays</th>\n",
              "      <th>divert</th>\n",
              "      <th>kidhijcountry</th>\n",
              "      <th>ransom</th>\n",
              "      <th>ransomamt</th>\n",
              "      <th>ransomamtus</th>\n",
              "      <th>ransompaid</th>\n",
              "      <th>ransompaidus</th>\n",
              "      <th>ransomnote</th>\n",
              "      <th>hostkidoutcome</th>\n",
              "      <th>hostkidoutcome_txt</th>\n",
              "      <th>nreleased</th>\n",
              "      <th>addnotes</th>\n",
              "      <th>scite1</th>\n",
              "      <th>scite2</th>\n",
              "      <th>scite3</th>\n",
              "      <th>dbsource</th>\n",
              "      <th>INT_LOG</th>\n",
              "      <th>INT_IDEO</th>\n",
              "      <th>INT_MISC</th>\n",
              "      <th>INT_ANY</th>\n",
              "      <th>related</th>\n",
              "    </tr>\n",
              "  </thead>\n",
              "  <tbody>\n",
              "    <tr>\n",
              "      <th>0</th>\n",
              "      <td>197000000001</td>\n",
              "      <td>1970</td>\n",
              "      <td>7</td>\n",
              "      <td>2</td>\n",
              "      <td>NaN</td>\n",
              "      <td>0</td>\n",
              "      <td>NaN</td>\n",
              "      <td>58</td>\n",
              "      <td>Dominican Republic</td>\n",
              "      <td>2</td>\n",
              "      <td>Central America &amp; Caribbean</td>\n",
              "      <td>NaN</td>\n",
              "      <td>Santo Domingo</td>\n",
              "      <td>18.456792</td>\n",
              "      <td>-69.951164</td>\n",
              "      <td>1.0</td>\n",
              "      <td>0</td>\n",
              "      <td>NaN</td>\n",
              "      <td>NaN</td>\n",
              "      <td>1</td>\n",
              "      <td>1</td>\n",
              "      <td>1</td>\n",
              "      <td>0.0</td>\n",
              "      <td>NaN</td>\n",
              "      <td>NaN</td>\n",
              "      <td>0.0</td>\n",
              "      <td>1</td>\n",
              "      <td>0</td>\n",
              "      <td>1</td>\n",
              "      <td>Assassination</td>\n",
              "      <td>NaN</td>\n",
              "      <td>NaN</td>\n",
              "      <td>NaN</td>\n",
              "      <td>NaN</td>\n",
              "      <td>14</td>\n",
              "      <td>Private Citizens &amp; Property</td>\n",
              "      <td>68.0</td>\n",
              "      <td>Named Civilian</td>\n",
              "      <td>NaN</td>\n",
              "      <td>Julio Guzman</td>\n",
              "      <td>...</td>\n",
              "      <td>NaN</td>\n",
              "      <td>NaN</td>\n",
              "      <td>NaN</td>\n",
              "      <td>1.0</td>\n",
              "      <td>NaN</td>\n",
              "      <td>NaN</td>\n",
              "      <td>0.0</td>\n",
              "      <td>NaN</td>\n",
              "      <td>NaN</td>\n",
              "      <td>0</td>\n",
              "      <td>NaN</td>\n",
              "      <td>NaN</td>\n",
              "      <td>NaN</td>\n",
              "      <td>NaN</td>\n",
              "      <td>0.0</td>\n",
              "      <td>NaN</td>\n",
              "      <td>NaN</td>\n",
              "      <td>NaN</td>\n",
              "      <td>NaN</td>\n",
              "      <td>NaN</td>\n",
              "      <td>NaN</td>\n",
              "      <td>0.0</td>\n",
              "      <td>NaN</td>\n",
              "      <td>NaN</td>\n",
              "      <td>NaN</td>\n",
              "      <td>NaN</td>\n",
              "      <td>NaN</td>\n",
              "      <td>NaN</td>\n",
              "      <td>NaN</td>\n",
              "      <td>NaN</td>\n",
              "      <td>NaN</td>\n",
              "      <td>NaN</td>\n",
              "      <td>NaN</td>\n",
              "      <td>NaN</td>\n",
              "      <td>PGIS</td>\n",
              "      <td>0</td>\n",
              "      <td>0</td>\n",
              "      <td>0</td>\n",
              "      <td>0</td>\n",
              "      <td>NaN</td>\n",
              "    </tr>\n",
              "    <tr>\n",
              "      <th>1</th>\n",
              "      <td>197000000002</td>\n",
              "      <td>1970</td>\n",
              "      <td>0</td>\n",
              "      <td>0</td>\n",
              "      <td>NaN</td>\n",
              "      <td>0</td>\n",
              "      <td>NaN</td>\n",
              "      <td>130</td>\n",
              "      <td>Mexico</td>\n",
              "      <td>1</td>\n",
              "      <td>North America</td>\n",
              "      <td>Federal</td>\n",
              "      <td>Mexico city</td>\n",
              "      <td>19.371887</td>\n",
              "      <td>-99.086624</td>\n",
              "      <td>1.0</td>\n",
              "      <td>0</td>\n",
              "      <td>NaN</td>\n",
              "      <td>NaN</td>\n",
              "      <td>1</td>\n",
              "      <td>1</td>\n",
              "      <td>1</td>\n",
              "      <td>0.0</td>\n",
              "      <td>NaN</td>\n",
              "      <td>NaN</td>\n",
              "      <td>0.0</td>\n",
              "      <td>1</td>\n",
              "      <td>0</td>\n",
              "      <td>6</td>\n",
              "      <td>Hostage Taking (Kidnapping)</td>\n",
              "      <td>NaN</td>\n",
              "      <td>NaN</td>\n",
              "      <td>NaN</td>\n",
              "      <td>NaN</td>\n",
              "      <td>7</td>\n",
              "      <td>Government (Diplomatic)</td>\n",
              "      <td>45.0</td>\n",
              "      <td>Diplomatic Personnel (outside of embassy, cons...</td>\n",
              "      <td>Belgian Ambassador Daughter</td>\n",
              "      <td>Nadine Chaval, daughter</td>\n",
              "      <td>...</td>\n",
              "      <td>NaN</td>\n",
              "      <td>NaN</td>\n",
              "      <td>NaN</td>\n",
              "      <td>0.0</td>\n",
              "      <td>NaN</td>\n",
              "      <td>NaN</td>\n",
              "      <td>0.0</td>\n",
              "      <td>NaN</td>\n",
              "      <td>NaN</td>\n",
              "      <td>0</td>\n",
              "      <td>NaN</td>\n",
              "      <td>NaN</td>\n",
              "      <td>NaN</td>\n",
              "      <td>NaN</td>\n",
              "      <td>1.0</td>\n",
              "      <td>1.0</td>\n",
              "      <td>0.0</td>\n",
              "      <td>NaN</td>\n",
              "      <td>NaN</td>\n",
              "      <td>NaN</td>\n",
              "      <td>Mexico</td>\n",
              "      <td>1.0</td>\n",
              "      <td>800000.0</td>\n",
              "      <td>NaN</td>\n",
              "      <td>NaN</td>\n",
              "      <td>NaN</td>\n",
              "      <td>NaN</td>\n",
              "      <td>NaN</td>\n",
              "      <td>NaN</td>\n",
              "      <td>NaN</td>\n",
              "      <td>NaN</td>\n",
              "      <td>NaN</td>\n",
              "      <td>NaN</td>\n",
              "      <td>NaN</td>\n",
              "      <td>PGIS</td>\n",
              "      <td>0</td>\n",
              "      <td>1</td>\n",
              "      <td>1</td>\n",
              "      <td>1</td>\n",
              "      <td>NaN</td>\n",
              "    </tr>\n",
              "    <tr>\n",
              "      <th>2</th>\n",
              "      <td>197001000001</td>\n",
              "      <td>1970</td>\n",
              "      <td>1</td>\n",
              "      <td>0</td>\n",
              "      <td>NaN</td>\n",
              "      <td>0</td>\n",
              "      <td>NaN</td>\n",
              "      <td>160</td>\n",
              "      <td>Philippines</td>\n",
              "      <td>5</td>\n",
              "      <td>Southeast Asia</td>\n",
              "      <td>Tarlac</td>\n",
              "      <td>Unknown</td>\n",
              "      <td>15.478598</td>\n",
              "      <td>120.599741</td>\n",
              "      <td>4.0</td>\n",
              "      <td>0</td>\n",
              "      <td>NaN</td>\n",
              "      <td>NaN</td>\n",
              "      <td>1</td>\n",
              "      <td>1</td>\n",
              "      <td>1</td>\n",
              "      <td>0.0</td>\n",
              "      <td>NaN</td>\n",
              "      <td>NaN</td>\n",
              "      <td>0.0</td>\n",
              "      <td>1</td>\n",
              "      <td>0</td>\n",
              "      <td>1</td>\n",
              "      <td>Assassination</td>\n",
              "      <td>NaN</td>\n",
              "      <td>NaN</td>\n",
              "      <td>NaN</td>\n",
              "      <td>NaN</td>\n",
              "      <td>10</td>\n",
              "      <td>Journalists &amp; Media</td>\n",
              "      <td>54.0</td>\n",
              "      <td>Radio Journalist/Staff/Facility</td>\n",
              "      <td>Voice of America</td>\n",
              "      <td>Employee</td>\n",
              "      <td>...</td>\n",
              "      <td>NaN</td>\n",
              "      <td>NaN</td>\n",
              "      <td>NaN</td>\n",
              "      <td>1.0</td>\n",
              "      <td>NaN</td>\n",
              "      <td>NaN</td>\n",
              "      <td>0.0</td>\n",
              "      <td>NaN</td>\n",
              "      <td>NaN</td>\n",
              "      <td>0</td>\n",
              "      <td>NaN</td>\n",
              "      <td>NaN</td>\n",
              "      <td>NaN</td>\n",
              "      <td>NaN</td>\n",
              "      <td>0.0</td>\n",
              "      <td>NaN</td>\n",
              "      <td>NaN</td>\n",
              "      <td>NaN</td>\n",
              "      <td>NaN</td>\n",
              "      <td>NaN</td>\n",
              "      <td>NaN</td>\n",
              "      <td>0.0</td>\n",
              "      <td>NaN</td>\n",
              "      <td>NaN</td>\n",
              "      <td>NaN</td>\n",
              "      <td>NaN</td>\n",
              "      <td>NaN</td>\n",
              "      <td>NaN</td>\n",
              "      <td>NaN</td>\n",
              "      <td>NaN</td>\n",
              "      <td>NaN</td>\n",
              "      <td>NaN</td>\n",
              "      <td>NaN</td>\n",
              "      <td>NaN</td>\n",
              "      <td>PGIS</td>\n",
              "      <td>-9</td>\n",
              "      <td>-9</td>\n",
              "      <td>1</td>\n",
              "      <td>1</td>\n",
              "      <td>NaN</td>\n",
              "    </tr>\n",
              "    <tr>\n",
              "      <th>3</th>\n",
              "      <td>197001000002</td>\n",
              "      <td>1970</td>\n",
              "      <td>1</td>\n",
              "      <td>0</td>\n",
              "      <td>NaN</td>\n",
              "      <td>0</td>\n",
              "      <td>NaN</td>\n",
              "      <td>78</td>\n",
              "      <td>Greece</td>\n",
              "      <td>8</td>\n",
              "      <td>Western Europe</td>\n",
              "      <td>Attica</td>\n",
              "      <td>Athens</td>\n",
              "      <td>37.997490</td>\n",
              "      <td>23.762728</td>\n",
              "      <td>1.0</td>\n",
              "      <td>0</td>\n",
              "      <td>NaN</td>\n",
              "      <td>NaN</td>\n",
              "      <td>1</td>\n",
              "      <td>1</td>\n",
              "      <td>1</td>\n",
              "      <td>0.0</td>\n",
              "      <td>NaN</td>\n",
              "      <td>NaN</td>\n",
              "      <td>0.0</td>\n",
              "      <td>1</td>\n",
              "      <td>0</td>\n",
              "      <td>3</td>\n",
              "      <td>Bombing/Explosion</td>\n",
              "      <td>NaN</td>\n",
              "      <td>NaN</td>\n",
              "      <td>NaN</td>\n",
              "      <td>NaN</td>\n",
              "      <td>7</td>\n",
              "      <td>Government (Diplomatic)</td>\n",
              "      <td>46.0</td>\n",
              "      <td>Embassy/Consulate</td>\n",
              "      <td>NaN</td>\n",
              "      <td>U.S. Embassy</td>\n",
              "      <td>...</td>\n",
              "      <td>NaN</td>\n",
              "      <td>NaN</td>\n",
              "      <td>Explosive</td>\n",
              "      <td>NaN</td>\n",
              "      <td>NaN</td>\n",
              "      <td>NaN</td>\n",
              "      <td>NaN</td>\n",
              "      <td>NaN</td>\n",
              "      <td>NaN</td>\n",
              "      <td>1</td>\n",
              "      <td>NaN</td>\n",
              "      <td>NaN</td>\n",
              "      <td>NaN</td>\n",
              "      <td>NaN</td>\n",
              "      <td>0.0</td>\n",
              "      <td>NaN</td>\n",
              "      <td>NaN</td>\n",
              "      <td>NaN</td>\n",
              "      <td>NaN</td>\n",
              "      <td>NaN</td>\n",
              "      <td>NaN</td>\n",
              "      <td>0.0</td>\n",
              "      <td>NaN</td>\n",
              "      <td>NaN</td>\n",
              "      <td>NaN</td>\n",
              "      <td>NaN</td>\n",
              "      <td>NaN</td>\n",
              "      <td>NaN</td>\n",
              "      <td>NaN</td>\n",
              "      <td>NaN</td>\n",
              "      <td>NaN</td>\n",
              "      <td>NaN</td>\n",
              "      <td>NaN</td>\n",
              "      <td>NaN</td>\n",
              "      <td>PGIS</td>\n",
              "      <td>-9</td>\n",
              "      <td>-9</td>\n",
              "      <td>1</td>\n",
              "      <td>1</td>\n",
              "      <td>NaN</td>\n",
              "    </tr>\n",
              "    <tr>\n",
              "      <th>4</th>\n",
              "      <td>197001000003</td>\n",
              "      <td>1970</td>\n",
              "      <td>1</td>\n",
              "      <td>0</td>\n",
              "      <td>NaN</td>\n",
              "      <td>0</td>\n",
              "      <td>NaN</td>\n",
              "      <td>101</td>\n",
              "      <td>Japan</td>\n",
              "      <td>4</td>\n",
              "      <td>East Asia</td>\n",
              "      <td>Fukouka</td>\n",
              "      <td>Fukouka</td>\n",
              "      <td>33.580412</td>\n",
              "      <td>130.396361</td>\n",
              "      <td>1.0</td>\n",
              "      <td>0</td>\n",
              "      <td>NaN</td>\n",
              "      <td>NaN</td>\n",
              "      <td>1</td>\n",
              "      <td>1</td>\n",
              "      <td>1</td>\n",
              "      <td>-9.0</td>\n",
              "      <td>NaN</td>\n",
              "      <td>NaN</td>\n",
              "      <td>0.0</td>\n",
              "      <td>1</td>\n",
              "      <td>0</td>\n",
              "      <td>7</td>\n",
              "      <td>Facility/Infrastructure Attack</td>\n",
              "      <td>NaN</td>\n",
              "      <td>NaN</td>\n",
              "      <td>NaN</td>\n",
              "      <td>NaN</td>\n",
              "      <td>7</td>\n",
              "      <td>Government (Diplomatic)</td>\n",
              "      <td>46.0</td>\n",
              "      <td>Embassy/Consulate</td>\n",
              "      <td>NaN</td>\n",
              "      <td>U.S. Consulate</td>\n",
              "      <td>...</td>\n",
              "      <td>NaN</td>\n",
              "      <td>NaN</td>\n",
              "      <td>Incendiary</td>\n",
              "      <td>NaN</td>\n",
              "      <td>NaN</td>\n",
              "      <td>NaN</td>\n",
              "      <td>NaN</td>\n",
              "      <td>NaN</td>\n",
              "      <td>NaN</td>\n",
              "      <td>1</td>\n",
              "      <td>NaN</td>\n",
              "      <td>NaN</td>\n",
              "      <td>NaN</td>\n",
              "      <td>NaN</td>\n",
              "      <td>0.0</td>\n",
              "      <td>NaN</td>\n",
              "      <td>NaN</td>\n",
              "      <td>NaN</td>\n",
              "      <td>NaN</td>\n",
              "      <td>NaN</td>\n",
              "      <td>NaN</td>\n",
              "      <td>0.0</td>\n",
              "      <td>NaN</td>\n",
              "      <td>NaN</td>\n",
              "      <td>NaN</td>\n",
              "      <td>NaN</td>\n",
              "      <td>NaN</td>\n",
              "      <td>NaN</td>\n",
              "      <td>NaN</td>\n",
              "      <td>NaN</td>\n",
              "      <td>NaN</td>\n",
              "      <td>NaN</td>\n",
              "      <td>NaN</td>\n",
              "      <td>NaN</td>\n",
              "      <td>PGIS</td>\n",
              "      <td>-9</td>\n",
              "      <td>-9</td>\n",
              "      <td>1</td>\n",
              "      <td>1</td>\n",
              "      <td>NaN</td>\n",
              "    </tr>\n",
              "  </tbody>\n",
              "</table>\n",
              "<p>5 rows × 135 columns</p>\n",
              "</div>"
            ],
            "text/plain": [
              "        eventid  iyear  imonth  iday  ... INT_IDEO  INT_MISC INT_ANY  related\n",
              "0  197000000001   1970       7     2  ...        0         0       0      NaN\n",
              "1  197000000002   1970       0     0  ...        1         1       1      NaN\n",
              "2  197001000001   1970       1     0  ...       -9         1       1      NaN\n",
              "3  197001000002   1970       1     0  ...       -9         1       1      NaN\n",
              "4  197001000003   1970       1     0  ...       -9         1       1      NaN\n",
              "\n",
              "[5 rows x 135 columns]"
            ]
          },
          "metadata": {},
          "execution_count": 25
        }
      ]
    },
    {
      "cell_type": "code",
      "metadata": {
        "colab": {
          "base_uri": "https://localhost:8080/",
          "height": 672
        },
        "id": "husoxcnY6opj",
        "outputId": "a4267d12-52a5-4c14-a6bf-2f0a421264e5"
      },
      "source": [
        "# Looking at last 5 rows of the dataset\n",
        "terror_data.tail()"
      ],
      "execution_count": 26,
      "outputs": [
        {
          "output_type": "execute_result",
          "data": {
            "text/html": [
              "<div>\n",
              "<style scoped>\n",
              "    .dataframe tbody tr th:only-of-type {\n",
              "        vertical-align: middle;\n",
              "    }\n",
              "\n",
              "    .dataframe tbody tr th {\n",
              "        vertical-align: top;\n",
              "    }\n",
              "\n",
              "    .dataframe thead th {\n",
              "        text-align: right;\n",
              "    }\n",
              "</style>\n",
              "<table border=\"1\" class=\"dataframe\">\n",
              "  <thead>\n",
              "    <tr style=\"text-align: right;\">\n",
              "      <th></th>\n",
              "      <th>eventid</th>\n",
              "      <th>iyear</th>\n",
              "      <th>imonth</th>\n",
              "      <th>iday</th>\n",
              "      <th>approxdate</th>\n",
              "      <th>extended</th>\n",
              "      <th>resolution</th>\n",
              "      <th>country</th>\n",
              "      <th>country_txt</th>\n",
              "      <th>region</th>\n",
              "      <th>region_txt</th>\n",
              "      <th>provstate</th>\n",
              "      <th>city</th>\n",
              "      <th>latitude</th>\n",
              "      <th>longitude</th>\n",
              "      <th>specificity</th>\n",
              "      <th>vicinity</th>\n",
              "      <th>location</th>\n",
              "      <th>summary</th>\n",
              "      <th>crit1</th>\n",
              "      <th>crit2</th>\n",
              "      <th>crit3</th>\n",
              "      <th>doubtterr</th>\n",
              "      <th>alternative</th>\n",
              "      <th>alternative_txt</th>\n",
              "      <th>multiple</th>\n",
              "      <th>success</th>\n",
              "      <th>suicide</th>\n",
              "      <th>attacktype1</th>\n",
              "      <th>attacktype1_txt</th>\n",
              "      <th>attacktype2</th>\n",
              "      <th>attacktype2_txt</th>\n",
              "      <th>attacktype3</th>\n",
              "      <th>attacktype3_txt</th>\n",
              "      <th>targtype1</th>\n",
              "      <th>targtype1_txt</th>\n",
              "      <th>targsubtype1</th>\n",
              "      <th>targsubtype1_txt</th>\n",
              "      <th>corp1</th>\n",
              "      <th>target1</th>\n",
              "      <th>...</th>\n",
              "      <th>weapsubtype4</th>\n",
              "      <th>weapsubtype4_txt</th>\n",
              "      <th>weapdetail</th>\n",
              "      <th>nkill</th>\n",
              "      <th>nkillus</th>\n",
              "      <th>nkillter</th>\n",
              "      <th>nwound</th>\n",
              "      <th>nwoundus</th>\n",
              "      <th>nwoundte</th>\n",
              "      <th>property</th>\n",
              "      <th>propextent</th>\n",
              "      <th>propextent_txt</th>\n",
              "      <th>propvalue</th>\n",
              "      <th>propcomment</th>\n",
              "      <th>ishostkid</th>\n",
              "      <th>nhostkid</th>\n",
              "      <th>nhostkidus</th>\n",
              "      <th>nhours</th>\n",
              "      <th>ndays</th>\n",
              "      <th>divert</th>\n",
              "      <th>kidhijcountry</th>\n",
              "      <th>ransom</th>\n",
              "      <th>ransomamt</th>\n",
              "      <th>ransomamtus</th>\n",
              "      <th>ransompaid</th>\n",
              "      <th>ransompaidus</th>\n",
              "      <th>ransomnote</th>\n",
              "      <th>hostkidoutcome</th>\n",
              "      <th>hostkidoutcome_txt</th>\n",
              "      <th>nreleased</th>\n",
              "      <th>addnotes</th>\n",
              "      <th>scite1</th>\n",
              "      <th>scite2</th>\n",
              "      <th>scite3</th>\n",
              "      <th>dbsource</th>\n",
              "      <th>INT_LOG</th>\n",
              "      <th>INT_IDEO</th>\n",
              "      <th>INT_MISC</th>\n",
              "      <th>INT_ANY</th>\n",
              "      <th>related</th>\n",
              "    </tr>\n",
              "  </thead>\n",
              "  <tbody>\n",
              "    <tr>\n",
              "      <th>181686</th>\n",
              "      <td>201712310022</td>\n",
              "      <td>2017</td>\n",
              "      <td>12</td>\n",
              "      <td>31</td>\n",
              "      <td>NaN</td>\n",
              "      <td>0</td>\n",
              "      <td>NaN</td>\n",
              "      <td>182</td>\n",
              "      <td>Somalia</td>\n",
              "      <td>11</td>\n",
              "      <td>Sub-Saharan Africa</td>\n",
              "      <td>Middle Shebelle</td>\n",
              "      <td>Ceelka Geelow</td>\n",
              "      <td>2.359673</td>\n",
              "      <td>45.385034</td>\n",
              "      <td>2.0</td>\n",
              "      <td>0</td>\n",
              "      <td>The incident occurred near the town of Balcad.</td>\n",
              "      <td>12/31/2017: Assailants opened fire on a Somali...</td>\n",
              "      <td>1</td>\n",
              "      <td>1</td>\n",
              "      <td>0</td>\n",
              "      <td>1.0</td>\n",
              "      <td>1.0</td>\n",
              "      <td>Insurgency/Guerilla Action</td>\n",
              "      <td>0.0</td>\n",
              "      <td>1</td>\n",
              "      <td>0</td>\n",
              "      <td>2</td>\n",
              "      <td>Armed Assault</td>\n",
              "      <td>NaN</td>\n",
              "      <td>NaN</td>\n",
              "      <td>NaN</td>\n",
              "      <td>NaN</td>\n",
              "      <td>4</td>\n",
              "      <td>Military</td>\n",
              "      <td>36.0</td>\n",
              "      <td>Military Checkpoint</td>\n",
              "      <td>Somali National Army (SNA)</td>\n",
              "      <td>Checkpoint</td>\n",
              "      <td>...</td>\n",
              "      <td>NaN</td>\n",
              "      <td>NaN</td>\n",
              "      <td>NaN</td>\n",
              "      <td>1.0</td>\n",
              "      <td>0.0</td>\n",
              "      <td>0.0</td>\n",
              "      <td>2.0</td>\n",
              "      <td>0.0</td>\n",
              "      <td>0.0</td>\n",
              "      <td>-9</td>\n",
              "      <td>NaN</td>\n",
              "      <td>NaN</td>\n",
              "      <td>NaN</td>\n",
              "      <td>NaN</td>\n",
              "      <td>0.0</td>\n",
              "      <td>NaN</td>\n",
              "      <td>NaN</td>\n",
              "      <td>NaN</td>\n",
              "      <td>NaN</td>\n",
              "      <td>NaN</td>\n",
              "      <td>NaN</td>\n",
              "      <td>NaN</td>\n",
              "      <td>NaN</td>\n",
              "      <td>NaN</td>\n",
              "      <td>NaN</td>\n",
              "      <td>NaN</td>\n",
              "      <td>NaN</td>\n",
              "      <td>NaN</td>\n",
              "      <td>NaN</td>\n",
              "      <td>NaN</td>\n",
              "      <td>NaN</td>\n",
              "      <td>\"Somalia: Al-Shabaab Militants Attack Army Che...</td>\n",
              "      <td>\"Highlights: Somalia Daily Media Highlights 2 ...</td>\n",
              "      <td>\"Highlights: Somalia Daily Media Highlights 1 ...</td>\n",
              "      <td>START Primary Collection</td>\n",
              "      <td>0</td>\n",
              "      <td>0</td>\n",
              "      <td>0</td>\n",
              "      <td>0</td>\n",
              "      <td>NaN</td>\n",
              "    </tr>\n",
              "    <tr>\n",
              "      <th>181687</th>\n",
              "      <td>201712310029</td>\n",
              "      <td>2017</td>\n",
              "      <td>12</td>\n",
              "      <td>31</td>\n",
              "      <td>NaN</td>\n",
              "      <td>0</td>\n",
              "      <td>NaN</td>\n",
              "      <td>200</td>\n",
              "      <td>Syria</td>\n",
              "      <td>10</td>\n",
              "      <td>Middle East &amp; North Africa</td>\n",
              "      <td>Lattakia</td>\n",
              "      <td>Jableh</td>\n",
              "      <td>35.407278</td>\n",
              "      <td>35.942679</td>\n",
              "      <td>1.0</td>\n",
              "      <td>1</td>\n",
              "      <td>The incident occurred at the Humaymim Airport.</td>\n",
              "      <td>12/31/2017: Assailants launched mortars at the...</td>\n",
              "      <td>1</td>\n",
              "      <td>1</td>\n",
              "      <td>0</td>\n",
              "      <td>1.0</td>\n",
              "      <td>1.0</td>\n",
              "      <td>Insurgency/Guerilla Action</td>\n",
              "      <td>0.0</td>\n",
              "      <td>1</td>\n",
              "      <td>0</td>\n",
              "      <td>3</td>\n",
              "      <td>Bombing/Explosion</td>\n",
              "      <td>NaN</td>\n",
              "      <td>NaN</td>\n",
              "      <td>NaN</td>\n",
              "      <td>NaN</td>\n",
              "      <td>4</td>\n",
              "      <td>Military</td>\n",
              "      <td>27.0</td>\n",
              "      <td>Military Barracks/Base/Headquarters/Checkpost</td>\n",
              "      <td>Russian Air Force</td>\n",
              "      <td>Hmeymim Air Base</td>\n",
              "      <td>...</td>\n",
              "      <td>NaN</td>\n",
              "      <td>NaN</td>\n",
              "      <td>Mortars were used in the attack.</td>\n",
              "      <td>2.0</td>\n",
              "      <td>0.0</td>\n",
              "      <td>0.0</td>\n",
              "      <td>7.0</td>\n",
              "      <td>0.0</td>\n",
              "      <td>0.0</td>\n",
              "      <td>1</td>\n",
              "      <td>4.0</td>\n",
              "      <td>Unknown</td>\n",
              "      <td>-99.0</td>\n",
              "      <td>Seven military planes were damaged in this att...</td>\n",
              "      <td>0.0</td>\n",
              "      <td>NaN</td>\n",
              "      <td>NaN</td>\n",
              "      <td>NaN</td>\n",
              "      <td>NaN</td>\n",
              "      <td>NaN</td>\n",
              "      <td>NaN</td>\n",
              "      <td>NaN</td>\n",
              "      <td>NaN</td>\n",
              "      <td>NaN</td>\n",
              "      <td>NaN</td>\n",
              "      <td>NaN</td>\n",
              "      <td>NaN</td>\n",
              "      <td>NaN</td>\n",
              "      <td>NaN</td>\n",
              "      <td>NaN</td>\n",
              "      <td>NaN</td>\n",
              "      <td>\"Putin's 'victory' in Syria has turned into a ...</td>\n",
              "      <td>\"Two Russian soldiers killed at Hmeymim base i...</td>\n",
              "      <td>\"Two Russian servicemen killed in Syria mortar...</td>\n",
              "      <td>START Primary Collection</td>\n",
              "      <td>-9</td>\n",
              "      <td>-9</td>\n",
              "      <td>1</td>\n",
              "      <td>1</td>\n",
              "      <td>NaN</td>\n",
              "    </tr>\n",
              "    <tr>\n",
              "      <th>181688</th>\n",
              "      <td>201712310030</td>\n",
              "      <td>2017</td>\n",
              "      <td>12</td>\n",
              "      <td>31</td>\n",
              "      <td>NaN</td>\n",
              "      <td>0</td>\n",
              "      <td>NaN</td>\n",
              "      <td>160</td>\n",
              "      <td>Philippines</td>\n",
              "      <td>5</td>\n",
              "      <td>Southeast Asia</td>\n",
              "      <td>Maguindanao</td>\n",
              "      <td>Kubentog</td>\n",
              "      <td>6.900742</td>\n",
              "      <td>124.437908</td>\n",
              "      <td>2.0</td>\n",
              "      <td>0</td>\n",
              "      <td>The incident occurred in the Datu Hoffer distr...</td>\n",
              "      <td>12/31/2017: Assailants set fire to houses in K...</td>\n",
              "      <td>1</td>\n",
              "      <td>1</td>\n",
              "      <td>1</td>\n",
              "      <td>0.0</td>\n",
              "      <td>NaN</td>\n",
              "      <td>NaN</td>\n",
              "      <td>0.0</td>\n",
              "      <td>1</td>\n",
              "      <td>0</td>\n",
              "      <td>7</td>\n",
              "      <td>Facility/Infrastructure Attack</td>\n",
              "      <td>NaN</td>\n",
              "      <td>NaN</td>\n",
              "      <td>NaN</td>\n",
              "      <td>NaN</td>\n",
              "      <td>14</td>\n",
              "      <td>Private Citizens &amp; Property</td>\n",
              "      <td>76.0</td>\n",
              "      <td>House/Apartment/Residence</td>\n",
              "      <td>Not Applicable</td>\n",
              "      <td>Houses</td>\n",
              "      <td>...</td>\n",
              "      <td>NaN</td>\n",
              "      <td>NaN</td>\n",
              "      <td>NaN</td>\n",
              "      <td>0.0</td>\n",
              "      <td>0.0</td>\n",
              "      <td>0.0</td>\n",
              "      <td>0.0</td>\n",
              "      <td>0.0</td>\n",
              "      <td>0.0</td>\n",
              "      <td>1</td>\n",
              "      <td>4.0</td>\n",
              "      <td>Unknown</td>\n",
              "      <td>-99.0</td>\n",
              "      <td>Houses were damaged in this attack.</td>\n",
              "      <td>0.0</td>\n",
              "      <td>NaN</td>\n",
              "      <td>NaN</td>\n",
              "      <td>NaN</td>\n",
              "      <td>NaN</td>\n",
              "      <td>NaN</td>\n",
              "      <td>NaN</td>\n",
              "      <td>NaN</td>\n",
              "      <td>NaN</td>\n",
              "      <td>NaN</td>\n",
              "      <td>NaN</td>\n",
              "      <td>NaN</td>\n",
              "      <td>NaN</td>\n",
              "      <td>NaN</td>\n",
              "      <td>NaN</td>\n",
              "      <td>NaN</td>\n",
              "      <td>NaN</td>\n",
              "      <td>\"Maguindanao clashes trap tribe members,\" Phil...</td>\n",
              "      <td>NaN</td>\n",
              "      <td>NaN</td>\n",
              "      <td>START Primary Collection</td>\n",
              "      <td>0</td>\n",
              "      <td>0</td>\n",
              "      <td>0</td>\n",
              "      <td>0</td>\n",
              "      <td>NaN</td>\n",
              "    </tr>\n",
              "    <tr>\n",
              "      <th>181689</th>\n",
              "      <td>201712310031</td>\n",
              "      <td>2017</td>\n",
              "      <td>12</td>\n",
              "      <td>31</td>\n",
              "      <td>NaN</td>\n",
              "      <td>0</td>\n",
              "      <td>NaN</td>\n",
              "      <td>92</td>\n",
              "      <td>India</td>\n",
              "      <td>6</td>\n",
              "      <td>South Asia</td>\n",
              "      <td>Manipur</td>\n",
              "      <td>Imphal</td>\n",
              "      <td>24.798346</td>\n",
              "      <td>93.940430</td>\n",
              "      <td>1.0</td>\n",
              "      <td>0</td>\n",
              "      <td>The incident occurred in the Mantripukhri neig...</td>\n",
              "      <td>12/31/2017: Assailants threw a grenade at a Fo...</td>\n",
              "      <td>1</td>\n",
              "      <td>1</td>\n",
              "      <td>1</td>\n",
              "      <td>0.0</td>\n",
              "      <td>NaN</td>\n",
              "      <td>NaN</td>\n",
              "      <td>0.0</td>\n",
              "      <td>0</td>\n",
              "      <td>0</td>\n",
              "      <td>3</td>\n",
              "      <td>Bombing/Explosion</td>\n",
              "      <td>NaN</td>\n",
              "      <td>NaN</td>\n",
              "      <td>NaN</td>\n",
              "      <td>NaN</td>\n",
              "      <td>2</td>\n",
              "      <td>Government (General)</td>\n",
              "      <td>21.0</td>\n",
              "      <td>Government Building/Facility/Office</td>\n",
              "      <td>Forest Department Manipur</td>\n",
              "      <td>Office</td>\n",
              "      <td>...</td>\n",
              "      <td>NaN</td>\n",
              "      <td>NaN</td>\n",
              "      <td>A thrown grenade was used in the attack.</td>\n",
              "      <td>0.0</td>\n",
              "      <td>0.0</td>\n",
              "      <td>0.0</td>\n",
              "      <td>0.0</td>\n",
              "      <td>0.0</td>\n",
              "      <td>0.0</td>\n",
              "      <td>-9</td>\n",
              "      <td>NaN</td>\n",
              "      <td>NaN</td>\n",
              "      <td>NaN</td>\n",
              "      <td>NaN</td>\n",
              "      <td>0.0</td>\n",
              "      <td>NaN</td>\n",
              "      <td>NaN</td>\n",
              "      <td>NaN</td>\n",
              "      <td>NaN</td>\n",
              "      <td>NaN</td>\n",
              "      <td>NaN</td>\n",
              "      <td>NaN</td>\n",
              "      <td>NaN</td>\n",
              "      <td>NaN</td>\n",
              "      <td>NaN</td>\n",
              "      <td>NaN</td>\n",
              "      <td>NaN</td>\n",
              "      <td>NaN</td>\n",
              "      <td>NaN</td>\n",
              "      <td>NaN</td>\n",
              "      <td>NaN</td>\n",
              "      <td>\"Trader escapes grenade attack in Imphal,\" Bus...</td>\n",
              "      <td>NaN</td>\n",
              "      <td>NaN</td>\n",
              "      <td>START Primary Collection</td>\n",
              "      <td>-9</td>\n",
              "      <td>-9</td>\n",
              "      <td>0</td>\n",
              "      <td>-9</td>\n",
              "      <td>NaN</td>\n",
              "    </tr>\n",
              "    <tr>\n",
              "      <th>181690</th>\n",
              "      <td>201712310032</td>\n",
              "      <td>2017</td>\n",
              "      <td>12</td>\n",
              "      <td>31</td>\n",
              "      <td>NaN</td>\n",
              "      <td>0</td>\n",
              "      <td>NaN</td>\n",
              "      <td>160</td>\n",
              "      <td>Philippines</td>\n",
              "      <td>5</td>\n",
              "      <td>Southeast Asia</td>\n",
              "      <td>Maguindanao</td>\n",
              "      <td>Cotabato City</td>\n",
              "      <td>7.209594</td>\n",
              "      <td>124.241966</td>\n",
              "      <td>1.0</td>\n",
              "      <td>0</td>\n",
              "      <td>NaN</td>\n",
              "      <td>12/31/2017: An explosive device was discovered...</td>\n",
              "      <td>1</td>\n",
              "      <td>1</td>\n",
              "      <td>1</td>\n",
              "      <td>0.0</td>\n",
              "      <td>NaN</td>\n",
              "      <td>NaN</td>\n",
              "      <td>0.0</td>\n",
              "      <td>0</td>\n",
              "      <td>0</td>\n",
              "      <td>3</td>\n",
              "      <td>Bombing/Explosion</td>\n",
              "      <td>NaN</td>\n",
              "      <td>NaN</td>\n",
              "      <td>NaN</td>\n",
              "      <td>NaN</td>\n",
              "      <td>20</td>\n",
              "      <td>Unknown</td>\n",
              "      <td>NaN</td>\n",
              "      <td>NaN</td>\n",
              "      <td>Unknown</td>\n",
              "      <td>Unknown</td>\n",
              "      <td>...</td>\n",
              "      <td>NaN</td>\n",
              "      <td>NaN</td>\n",
              "      <td>An explosive device containing a detonating co...</td>\n",
              "      <td>0.0</td>\n",
              "      <td>0.0</td>\n",
              "      <td>0.0</td>\n",
              "      <td>0.0</td>\n",
              "      <td>0.0</td>\n",
              "      <td>0.0</td>\n",
              "      <td>0</td>\n",
              "      <td>NaN</td>\n",
              "      <td>NaN</td>\n",
              "      <td>NaN</td>\n",
              "      <td>NaN</td>\n",
              "      <td>0.0</td>\n",
              "      <td>NaN</td>\n",
              "      <td>NaN</td>\n",
              "      <td>NaN</td>\n",
              "      <td>NaN</td>\n",
              "      <td>NaN</td>\n",
              "      <td>NaN</td>\n",
              "      <td>NaN</td>\n",
              "      <td>NaN</td>\n",
              "      <td>NaN</td>\n",
              "      <td>NaN</td>\n",
              "      <td>NaN</td>\n",
              "      <td>NaN</td>\n",
              "      <td>NaN</td>\n",
              "      <td>NaN</td>\n",
              "      <td>NaN</td>\n",
              "      <td>NaN</td>\n",
              "      <td>\"Security tightened in Cotabato following IED ...</td>\n",
              "      <td>\"Security tightened in Cotabato City,\" Manila ...</td>\n",
              "      <td>NaN</td>\n",
              "      <td>START Primary Collection</td>\n",
              "      <td>-9</td>\n",
              "      <td>-9</td>\n",
              "      <td>0</td>\n",
              "      <td>-9</td>\n",
              "      <td>NaN</td>\n",
              "    </tr>\n",
              "  </tbody>\n",
              "</table>\n",
              "<p>5 rows × 135 columns</p>\n",
              "</div>"
            ],
            "text/plain": [
              "             eventid  iyear  imonth  iday  ... INT_IDEO  INT_MISC INT_ANY  related\n",
              "181686  201712310022   2017      12    31  ...        0         0       0      NaN\n",
              "181687  201712310029   2017      12    31  ...       -9         1       1      NaN\n",
              "181688  201712310030   2017      12    31  ...        0         0       0      NaN\n",
              "181689  201712310031   2017      12    31  ...       -9         0      -9      NaN\n",
              "181690  201712310032   2017      12    31  ...       -9         0      -9      NaN\n",
              "\n",
              "[5 rows x 135 columns]"
            ]
          },
          "metadata": {},
          "execution_count": 26
        }
      ]
    },
    {
      "cell_type": "markdown",
      "metadata": {
        "id": "As_bchgt6yZ6"
      },
      "source": [
        "#Getting the Size of the Dataset"
      ]
    },
    {
      "cell_type": "code",
      "metadata": {
        "colab": {
          "base_uri": "https://localhost:8080/"
        },
        "id": "9EQw_nZa6s_L",
        "outputId": "8e749575-eee2-4cd0-dcf9-290b6399824f"
      },
      "source": [
        "print(\"Number of rows in the Dataset :\", terror_data.shape[0])\n",
        "print(\"Number of columns in the Dataset :\", terror_data.shape[1])"
      ],
      "execution_count": 27,
      "outputs": [
        {
          "output_type": "stream",
          "name": "stdout",
          "text": [
            "Number of rows in the Dataset : 181691\n",
            "Number of columns in the Dataset : 135\n"
          ]
        }
      ]
    },
    {
      "cell_type": "markdown",
      "metadata": {
        "id": "aEq3DQ0069s5"
      },
      "source": [
        "#All the column names of the dataset"
      ]
    },
    {
      "cell_type": "markdown",
      "metadata": {
        "id": "B2JNn8PU7qBY"
      },
      "source": [
        ""
      ]
    },
    {
      "cell_type": "code",
      "metadata": {
        "colab": {
          "base_uri": "https://localhost:8080/"
        },
        "id": "4ByQuPcn64qE",
        "outputId": "09ff2de6-4891-4d16-fae1-3486d031109d"
      },
      "source": [
        "columns = terror_data.columns.tolist()\n",
        "print(columns)"
      ],
      "execution_count": 28,
      "outputs": [
        {
          "output_type": "stream",
          "name": "stdout",
          "text": [
            "['eventid', 'iyear', 'imonth', 'iday', 'approxdate', 'extended', 'resolution', 'country', 'country_txt', 'region', 'region_txt', 'provstate', 'city', 'latitude', 'longitude', 'specificity', 'vicinity', 'location', 'summary', 'crit1', 'crit2', 'crit3', 'doubtterr', 'alternative', 'alternative_txt', 'multiple', 'success', 'suicide', 'attacktype1', 'attacktype1_txt', 'attacktype2', 'attacktype2_txt', 'attacktype3', 'attacktype3_txt', 'targtype1', 'targtype1_txt', 'targsubtype1', 'targsubtype1_txt', 'corp1', 'target1', 'natlty1', 'natlty1_txt', 'targtype2', 'targtype2_txt', 'targsubtype2', 'targsubtype2_txt', 'corp2', 'target2', 'natlty2', 'natlty2_txt', 'targtype3', 'targtype3_txt', 'targsubtype3', 'targsubtype3_txt', 'corp3', 'target3', 'natlty3', 'natlty3_txt', 'gname', 'gsubname', 'gname2', 'gsubname2', 'gname3', 'gsubname3', 'motive', 'guncertain1', 'guncertain2', 'guncertain3', 'individual', 'nperps', 'nperpcap', 'claimed', 'claimmode', 'claimmode_txt', 'claim2', 'claimmode2', 'claimmode2_txt', 'claim3', 'claimmode3', 'claimmode3_txt', 'compclaim', 'weaptype1', 'weaptype1_txt', 'weapsubtype1', 'weapsubtype1_txt', 'weaptype2', 'weaptype2_txt', 'weapsubtype2', 'weapsubtype2_txt', 'weaptype3', 'weaptype3_txt', 'weapsubtype3', 'weapsubtype3_txt', 'weaptype4', 'weaptype4_txt', 'weapsubtype4', 'weapsubtype4_txt', 'weapdetail', 'nkill', 'nkillus', 'nkillter', 'nwound', 'nwoundus', 'nwoundte', 'property', 'propextent', 'propextent_txt', 'propvalue', 'propcomment', 'ishostkid', 'nhostkid', 'nhostkidus', 'nhours', 'ndays', 'divert', 'kidhijcountry', 'ransom', 'ransomamt', 'ransomamtus', 'ransompaid', 'ransompaidus', 'ransomnote', 'hostkidoutcome', 'hostkidoutcome_txt', 'nreleased', 'addnotes', 'scite1', 'scite2', 'scite3', 'dbsource', 'INT_LOG', 'INT_IDEO', 'INT_MISC', 'INT_ANY', 'related']\n"
          ]
        }
      ]
    },
    {
      "cell_type": "markdown",
      "metadata": {
        "id": "Xj3LFQQv76x0"
      },
      "source": [
        "#Renaming Certain Columns"
      ]
    },
    {
      "cell_type": "markdown",
      "metadata": {
        "id": "uJAbJk_Z7lVO"
      },
      "source": [
        ""
      ]
    },
    {
      "cell_type": "code",
      "metadata": {
        "id": "3znwmHDN7BnZ"
      },
      "source": [
        "df = pd.DataFrame(terror_data, terror_data.rename(columns={ 'success': 'Success', 'location': 'Location', 'iyear':'Year','imonth':'Month','extended':'Extended','iday':'Day','country_txt':'Country',\n",
        "                   'country': 'Country_code', 'provstate':'State','region_txt':'Region','attacktype1_txt':'AttackType','target1':'Target',\n",
        "                   'nkill':'Killed','nwound':'Wounded','summary':'Summary','gname':'Group','targtype1_txt':'Target_type',\n",
        "                   'weaptype1_txt':'Weapon_type','motive':'Motive','city':'City','latitude':'Latitude','longitude':'Longitude'},inplace=True))"
      ],
      "execution_count": 29,
      "outputs": []
    },
    {
      "cell_type": "code",
      "metadata": {
        "colab": {
          "base_uri": "https://localhost:8080/",
          "height": 377
        },
        "id": "oG3digbe7JMZ",
        "outputId": "43eb32b3-e5cc-4418-e9b8-b0bada7a1144"
      },
      "source": [
        "df.head()"
      ],
      "execution_count": 30,
      "outputs": [
        {
          "output_type": "execute_result",
          "data": {
            "text/html": [
              "<div>\n",
              "<style scoped>\n",
              "    .dataframe tbody tr th:only-of-type {\n",
              "        vertical-align: middle;\n",
              "    }\n",
              "\n",
              "    .dataframe tbody tr th {\n",
              "        vertical-align: top;\n",
              "    }\n",
              "\n",
              "    .dataframe thead th {\n",
              "        text-align: right;\n",
              "    }\n",
              "</style>\n",
              "<table border=\"1\" class=\"dataframe\">\n",
              "  <thead>\n",
              "    <tr style=\"text-align: right;\">\n",
              "      <th></th>\n",
              "      <th>eventid</th>\n",
              "      <th>Year</th>\n",
              "      <th>Month</th>\n",
              "      <th>Day</th>\n",
              "      <th>approxdate</th>\n",
              "      <th>Extended</th>\n",
              "      <th>resolution</th>\n",
              "      <th>Country_code</th>\n",
              "      <th>Country</th>\n",
              "      <th>region</th>\n",
              "      <th>Region</th>\n",
              "      <th>State</th>\n",
              "      <th>City</th>\n",
              "      <th>Latitude</th>\n",
              "      <th>Longitude</th>\n",
              "      <th>specificity</th>\n",
              "      <th>vicinity</th>\n",
              "      <th>Location</th>\n",
              "      <th>Summary</th>\n",
              "      <th>crit1</th>\n",
              "      <th>crit2</th>\n",
              "      <th>crit3</th>\n",
              "      <th>doubtterr</th>\n",
              "      <th>alternative</th>\n",
              "      <th>alternative_txt</th>\n",
              "      <th>multiple</th>\n",
              "      <th>Success</th>\n",
              "      <th>suicide</th>\n",
              "      <th>attacktype1</th>\n",
              "      <th>AttackType</th>\n",
              "      <th>attacktype2</th>\n",
              "      <th>attacktype2_txt</th>\n",
              "      <th>attacktype3</th>\n",
              "      <th>attacktype3_txt</th>\n",
              "      <th>targtype1</th>\n",
              "      <th>Target_type</th>\n",
              "      <th>targsubtype1</th>\n",
              "      <th>targsubtype1_txt</th>\n",
              "      <th>corp1</th>\n",
              "      <th>Target</th>\n",
              "      <th>...</th>\n",
              "      <th>weapsubtype4</th>\n",
              "      <th>weapsubtype4_txt</th>\n",
              "      <th>weapdetail</th>\n",
              "      <th>Killed</th>\n",
              "      <th>nkillus</th>\n",
              "      <th>nkillter</th>\n",
              "      <th>Wounded</th>\n",
              "      <th>nwoundus</th>\n",
              "      <th>nwoundte</th>\n",
              "      <th>property</th>\n",
              "      <th>propextent</th>\n",
              "      <th>propextent_txt</th>\n",
              "      <th>propvalue</th>\n",
              "      <th>propcomment</th>\n",
              "      <th>ishostkid</th>\n",
              "      <th>nhostkid</th>\n",
              "      <th>nhostkidus</th>\n",
              "      <th>nhours</th>\n",
              "      <th>ndays</th>\n",
              "      <th>divert</th>\n",
              "      <th>kidhijcountry</th>\n",
              "      <th>ransom</th>\n",
              "      <th>ransomamt</th>\n",
              "      <th>ransomamtus</th>\n",
              "      <th>ransompaid</th>\n",
              "      <th>ransompaidus</th>\n",
              "      <th>ransomnote</th>\n",
              "      <th>hostkidoutcome</th>\n",
              "      <th>hostkidoutcome_txt</th>\n",
              "      <th>nreleased</th>\n",
              "      <th>addnotes</th>\n",
              "      <th>scite1</th>\n",
              "      <th>scite2</th>\n",
              "      <th>scite3</th>\n",
              "      <th>dbsource</th>\n",
              "      <th>INT_LOG</th>\n",
              "      <th>INT_IDEO</th>\n",
              "      <th>INT_MISC</th>\n",
              "      <th>INT_ANY</th>\n",
              "      <th>related</th>\n",
              "    </tr>\n",
              "  </thead>\n",
              "  <tbody>\n",
              "    <tr>\n",
              "      <th>0</th>\n",
              "      <td>197000000001</td>\n",
              "      <td>1970</td>\n",
              "      <td>7</td>\n",
              "      <td>2</td>\n",
              "      <td>NaN</td>\n",
              "      <td>0</td>\n",
              "      <td>NaN</td>\n",
              "      <td>58</td>\n",
              "      <td>Dominican Republic</td>\n",
              "      <td>2</td>\n",
              "      <td>Central America &amp; Caribbean</td>\n",
              "      <td>NaN</td>\n",
              "      <td>Santo Domingo</td>\n",
              "      <td>18.456792</td>\n",
              "      <td>-69.951164</td>\n",
              "      <td>1.0</td>\n",
              "      <td>0</td>\n",
              "      <td>NaN</td>\n",
              "      <td>NaN</td>\n",
              "      <td>1</td>\n",
              "      <td>1</td>\n",
              "      <td>1</td>\n",
              "      <td>0.0</td>\n",
              "      <td>NaN</td>\n",
              "      <td>NaN</td>\n",
              "      <td>0.0</td>\n",
              "      <td>1</td>\n",
              "      <td>0</td>\n",
              "      <td>1</td>\n",
              "      <td>Assassination</td>\n",
              "      <td>NaN</td>\n",
              "      <td>NaN</td>\n",
              "      <td>NaN</td>\n",
              "      <td>NaN</td>\n",
              "      <td>14</td>\n",
              "      <td>Private Citizens &amp; Property</td>\n",
              "      <td>68.0</td>\n",
              "      <td>Named Civilian</td>\n",
              "      <td>NaN</td>\n",
              "      <td>Julio Guzman</td>\n",
              "      <td>...</td>\n",
              "      <td>NaN</td>\n",
              "      <td>NaN</td>\n",
              "      <td>NaN</td>\n",
              "      <td>1.0</td>\n",
              "      <td>NaN</td>\n",
              "      <td>NaN</td>\n",
              "      <td>0.0</td>\n",
              "      <td>NaN</td>\n",
              "      <td>NaN</td>\n",
              "      <td>0</td>\n",
              "      <td>NaN</td>\n",
              "      <td>NaN</td>\n",
              "      <td>NaN</td>\n",
              "      <td>NaN</td>\n",
              "      <td>0.0</td>\n",
              "      <td>NaN</td>\n",
              "      <td>NaN</td>\n",
              "      <td>NaN</td>\n",
              "      <td>NaN</td>\n",
              "      <td>NaN</td>\n",
              "      <td>NaN</td>\n",
              "      <td>0.0</td>\n",
              "      <td>NaN</td>\n",
              "      <td>NaN</td>\n",
              "      <td>NaN</td>\n",
              "      <td>NaN</td>\n",
              "      <td>NaN</td>\n",
              "      <td>NaN</td>\n",
              "      <td>NaN</td>\n",
              "      <td>NaN</td>\n",
              "      <td>NaN</td>\n",
              "      <td>NaN</td>\n",
              "      <td>NaN</td>\n",
              "      <td>NaN</td>\n",
              "      <td>PGIS</td>\n",
              "      <td>0</td>\n",
              "      <td>0</td>\n",
              "      <td>0</td>\n",
              "      <td>0</td>\n",
              "      <td>NaN</td>\n",
              "    </tr>\n",
              "    <tr>\n",
              "      <th>1</th>\n",
              "      <td>197000000002</td>\n",
              "      <td>1970</td>\n",
              "      <td>0</td>\n",
              "      <td>0</td>\n",
              "      <td>NaN</td>\n",
              "      <td>0</td>\n",
              "      <td>NaN</td>\n",
              "      <td>130</td>\n",
              "      <td>Mexico</td>\n",
              "      <td>1</td>\n",
              "      <td>North America</td>\n",
              "      <td>Federal</td>\n",
              "      <td>Mexico city</td>\n",
              "      <td>19.371887</td>\n",
              "      <td>-99.086624</td>\n",
              "      <td>1.0</td>\n",
              "      <td>0</td>\n",
              "      <td>NaN</td>\n",
              "      <td>NaN</td>\n",
              "      <td>1</td>\n",
              "      <td>1</td>\n",
              "      <td>1</td>\n",
              "      <td>0.0</td>\n",
              "      <td>NaN</td>\n",
              "      <td>NaN</td>\n",
              "      <td>0.0</td>\n",
              "      <td>1</td>\n",
              "      <td>0</td>\n",
              "      <td>6</td>\n",
              "      <td>Hostage Taking (Kidnapping)</td>\n",
              "      <td>NaN</td>\n",
              "      <td>NaN</td>\n",
              "      <td>NaN</td>\n",
              "      <td>NaN</td>\n",
              "      <td>7</td>\n",
              "      <td>Government (Diplomatic)</td>\n",
              "      <td>45.0</td>\n",
              "      <td>Diplomatic Personnel (outside of embassy, cons...</td>\n",
              "      <td>Belgian Ambassador Daughter</td>\n",
              "      <td>Nadine Chaval, daughter</td>\n",
              "      <td>...</td>\n",
              "      <td>NaN</td>\n",
              "      <td>NaN</td>\n",
              "      <td>NaN</td>\n",
              "      <td>0.0</td>\n",
              "      <td>NaN</td>\n",
              "      <td>NaN</td>\n",
              "      <td>0.0</td>\n",
              "      <td>NaN</td>\n",
              "      <td>NaN</td>\n",
              "      <td>0</td>\n",
              "      <td>NaN</td>\n",
              "      <td>NaN</td>\n",
              "      <td>NaN</td>\n",
              "      <td>NaN</td>\n",
              "      <td>1.0</td>\n",
              "      <td>1.0</td>\n",
              "      <td>0.0</td>\n",
              "      <td>NaN</td>\n",
              "      <td>NaN</td>\n",
              "      <td>NaN</td>\n",
              "      <td>Mexico</td>\n",
              "      <td>1.0</td>\n",
              "      <td>800000.0</td>\n",
              "      <td>NaN</td>\n",
              "      <td>NaN</td>\n",
              "      <td>NaN</td>\n",
              "      <td>NaN</td>\n",
              "      <td>NaN</td>\n",
              "      <td>NaN</td>\n",
              "      <td>NaN</td>\n",
              "      <td>NaN</td>\n",
              "      <td>NaN</td>\n",
              "      <td>NaN</td>\n",
              "      <td>NaN</td>\n",
              "      <td>PGIS</td>\n",
              "      <td>0</td>\n",
              "      <td>1</td>\n",
              "      <td>1</td>\n",
              "      <td>1</td>\n",
              "      <td>NaN</td>\n",
              "    </tr>\n",
              "    <tr>\n",
              "      <th>2</th>\n",
              "      <td>197001000001</td>\n",
              "      <td>1970</td>\n",
              "      <td>1</td>\n",
              "      <td>0</td>\n",
              "      <td>NaN</td>\n",
              "      <td>0</td>\n",
              "      <td>NaN</td>\n",
              "      <td>160</td>\n",
              "      <td>Philippines</td>\n",
              "      <td>5</td>\n",
              "      <td>Southeast Asia</td>\n",
              "      <td>Tarlac</td>\n",
              "      <td>Unknown</td>\n",
              "      <td>15.478598</td>\n",
              "      <td>120.599741</td>\n",
              "      <td>4.0</td>\n",
              "      <td>0</td>\n",
              "      <td>NaN</td>\n",
              "      <td>NaN</td>\n",
              "      <td>1</td>\n",
              "      <td>1</td>\n",
              "      <td>1</td>\n",
              "      <td>0.0</td>\n",
              "      <td>NaN</td>\n",
              "      <td>NaN</td>\n",
              "      <td>0.0</td>\n",
              "      <td>1</td>\n",
              "      <td>0</td>\n",
              "      <td>1</td>\n",
              "      <td>Assassination</td>\n",
              "      <td>NaN</td>\n",
              "      <td>NaN</td>\n",
              "      <td>NaN</td>\n",
              "      <td>NaN</td>\n",
              "      <td>10</td>\n",
              "      <td>Journalists &amp; Media</td>\n",
              "      <td>54.0</td>\n",
              "      <td>Radio Journalist/Staff/Facility</td>\n",
              "      <td>Voice of America</td>\n",
              "      <td>Employee</td>\n",
              "      <td>...</td>\n",
              "      <td>NaN</td>\n",
              "      <td>NaN</td>\n",
              "      <td>NaN</td>\n",
              "      <td>1.0</td>\n",
              "      <td>NaN</td>\n",
              "      <td>NaN</td>\n",
              "      <td>0.0</td>\n",
              "      <td>NaN</td>\n",
              "      <td>NaN</td>\n",
              "      <td>0</td>\n",
              "      <td>NaN</td>\n",
              "      <td>NaN</td>\n",
              "      <td>NaN</td>\n",
              "      <td>NaN</td>\n",
              "      <td>0.0</td>\n",
              "      <td>NaN</td>\n",
              "      <td>NaN</td>\n",
              "      <td>NaN</td>\n",
              "      <td>NaN</td>\n",
              "      <td>NaN</td>\n",
              "      <td>NaN</td>\n",
              "      <td>0.0</td>\n",
              "      <td>NaN</td>\n",
              "      <td>NaN</td>\n",
              "      <td>NaN</td>\n",
              "      <td>NaN</td>\n",
              "      <td>NaN</td>\n",
              "      <td>NaN</td>\n",
              "      <td>NaN</td>\n",
              "      <td>NaN</td>\n",
              "      <td>NaN</td>\n",
              "      <td>NaN</td>\n",
              "      <td>NaN</td>\n",
              "      <td>NaN</td>\n",
              "      <td>PGIS</td>\n",
              "      <td>-9</td>\n",
              "      <td>-9</td>\n",
              "      <td>1</td>\n",
              "      <td>1</td>\n",
              "      <td>NaN</td>\n",
              "    </tr>\n",
              "    <tr>\n",
              "      <th>3</th>\n",
              "      <td>197001000002</td>\n",
              "      <td>1970</td>\n",
              "      <td>1</td>\n",
              "      <td>0</td>\n",
              "      <td>NaN</td>\n",
              "      <td>0</td>\n",
              "      <td>NaN</td>\n",
              "      <td>78</td>\n",
              "      <td>Greece</td>\n",
              "      <td>8</td>\n",
              "      <td>Western Europe</td>\n",
              "      <td>Attica</td>\n",
              "      <td>Athens</td>\n",
              "      <td>37.997490</td>\n",
              "      <td>23.762728</td>\n",
              "      <td>1.0</td>\n",
              "      <td>0</td>\n",
              "      <td>NaN</td>\n",
              "      <td>NaN</td>\n",
              "      <td>1</td>\n",
              "      <td>1</td>\n",
              "      <td>1</td>\n",
              "      <td>0.0</td>\n",
              "      <td>NaN</td>\n",
              "      <td>NaN</td>\n",
              "      <td>0.0</td>\n",
              "      <td>1</td>\n",
              "      <td>0</td>\n",
              "      <td>3</td>\n",
              "      <td>Bombing/Explosion</td>\n",
              "      <td>NaN</td>\n",
              "      <td>NaN</td>\n",
              "      <td>NaN</td>\n",
              "      <td>NaN</td>\n",
              "      <td>7</td>\n",
              "      <td>Government (Diplomatic)</td>\n",
              "      <td>46.0</td>\n",
              "      <td>Embassy/Consulate</td>\n",
              "      <td>NaN</td>\n",
              "      <td>U.S. Embassy</td>\n",
              "      <td>...</td>\n",
              "      <td>NaN</td>\n",
              "      <td>NaN</td>\n",
              "      <td>Explosive</td>\n",
              "      <td>NaN</td>\n",
              "      <td>NaN</td>\n",
              "      <td>NaN</td>\n",
              "      <td>NaN</td>\n",
              "      <td>NaN</td>\n",
              "      <td>NaN</td>\n",
              "      <td>1</td>\n",
              "      <td>NaN</td>\n",
              "      <td>NaN</td>\n",
              "      <td>NaN</td>\n",
              "      <td>NaN</td>\n",
              "      <td>0.0</td>\n",
              "      <td>NaN</td>\n",
              "      <td>NaN</td>\n",
              "      <td>NaN</td>\n",
              "      <td>NaN</td>\n",
              "      <td>NaN</td>\n",
              "      <td>NaN</td>\n",
              "      <td>0.0</td>\n",
              "      <td>NaN</td>\n",
              "      <td>NaN</td>\n",
              "      <td>NaN</td>\n",
              "      <td>NaN</td>\n",
              "      <td>NaN</td>\n",
              "      <td>NaN</td>\n",
              "      <td>NaN</td>\n",
              "      <td>NaN</td>\n",
              "      <td>NaN</td>\n",
              "      <td>NaN</td>\n",
              "      <td>NaN</td>\n",
              "      <td>NaN</td>\n",
              "      <td>PGIS</td>\n",
              "      <td>-9</td>\n",
              "      <td>-9</td>\n",
              "      <td>1</td>\n",
              "      <td>1</td>\n",
              "      <td>NaN</td>\n",
              "    </tr>\n",
              "    <tr>\n",
              "      <th>4</th>\n",
              "      <td>197001000003</td>\n",
              "      <td>1970</td>\n",
              "      <td>1</td>\n",
              "      <td>0</td>\n",
              "      <td>NaN</td>\n",
              "      <td>0</td>\n",
              "      <td>NaN</td>\n",
              "      <td>101</td>\n",
              "      <td>Japan</td>\n",
              "      <td>4</td>\n",
              "      <td>East Asia</td>\n",
              "      <td>Fukouka</td>\n",
              "      <td>Fukouka</td>\n",
              "      <td>33.580412</td>\n",
              "      <td>130.396361</td>\n",
              "      <td>1.0</td>\n",
              "      <td>0</td>\n",
              "      <td>NaN</td>\n",
              "      <td>NaN</td>\n",
              "      <td>1</td>\n",
              "      <td>1</td>\n",
              "      <td>1</td>\n",
              "      <td>-9.0</td>\n",
              "      <td>NaN</td>\n",
              "      <td>NaN</td>\n",
              "      <td>0.0</td>\n",
              "      <td>1</td>\n",
              "      <td>0</td>\n",
              "      <td>7</td>\n",
              "      <td>Facility/Infrastructure Attack</td>\n",
              "      <td>NaN</td>\n",
              "      <td>NaN</td>\n",
              "      <td>NaN</td>\n",
              "      <td>NaN</td>\n",
              "      <td>7</td>\n",
              "      <td>Government (Diplomatic)</td>\n",
              "      <td>46.0</td>\n",
              "      <td>Embassy/Consulate</td>\n",
              "      <td>NaN</td>\n",
              "      <td>U.S. Consulate</td>\n",
              "      <td>...</td>\n",
              "      <td>NaN</td>\n",
              "      <td>NaN</td>\n",
              "      <td>Incendiary</td>\n",
              "      <td>NaN</td>\n",
              "      <td>NaN</td>\n",
              "      <td>NaN</td>\n",
              "      <td>NaN</td>\n",
              "      <td>NaN</td>\n",
              "      <td>NaN</td>\n",
              "      <td>1</td>\n",
              "      <td>NaN</td>\n",
              "      <td>NaN</td>\n",
              "      <td>NaN</td>\n",
              "      <td>NaN</td>\n",
              "      <td>0.0</td>\n",
              "      <td>NaN</td>\n",
              "      <td>NaN</td>\n",
              "      <td>NaN</td>\n",
              "      <td>NaN</td>\n",
              "      <td>NaN</td>\n",
              "      <td>NaN</td>\n",
              "      <td>0.0</td>\n",
              "      <td>NaN</td>\n",
              "      <td>NaN</td>\n",
              "      <td>NaN</td>\n",
              "      <td>NaN</td>\n",
              "      <td>NaN</td>\n",
              "      <td>NaN</td>\n",
              "      <td>NaN</td>\n",
              "      <td>NaN</td>\n",
              "      <td>NaN</td>\n",
              "      <td>NaN</td>\n",
              "      <td>NaN</td>\n",
              "      <td>NaN</td>\n",
              "      <td>PGIS</td>\n",
              "      <td>-9</td>\n",
              "      <td>-9</td>\n",
              "      <td>1</td>\n",
              "      <td>1</td>\n",
              "      <td>NaN</td>\n",
              "    </tr>\n",
              "  </tbody>\n",
              "</table>\n",
              "<p>5 rows × 135 columns</p>\n",
              "</div>"
            ],
            "text/plain": [
              "        eventid  Year  Month  Day  ... INT_IDEO  INT_MISC INT_ANY  related\n",
              "0  197000000001  1970      7    2  ...        0         0       0      NaN\n",
              "1  197000000002  1970      0    0  ...        1         1       1      NaN\n",
              "2  197001000001  1970      1    0  ...       -9         1       1      NaN\n",
              "3  197001000002  1970      1    0  ...       -9         1       1      NaN\n",
              "4  197001000003  1970      1    0  ...       -9         1       1      NaN\n",
              "\n",
              "[5 rows x 135 columns]"
            ]
          },
          "metadata": {},
          "execution_count": 30
        }
      ]
    },
    {
      "cell_type": "markdown",
      "metadata": {
        "id": "oGoFQXfs8KLn"
      },
      "source": [
        "#Feature Creation"
      ]
    },
    {
      "cell_type": "markdown",
      "metadata": {
        "id": "P25SKxy88QlE"
      },
      "source": [
        "Here, a new column is added called Total_casualities which represents number of the people harmed (killed + injured) in terrorist attacks."
      ]
    },
    {
      "cell_type": "code",
      "metadata": {
        "id": "dOa9gzfh8kc-"
      },
      "source": [
        "df['Total_casualities'] = df['Killed'] + df['Wounded']"
      ],
      "execution_count": 31,
      "outputs": []
    },
    {
      "cell_type": "markdown",
      "metadata": {
        "id": "XdZAIHE0D_R5"
      },
      "source": [
        "#Feature Extraction"
      ]
    },
    {
      "cell_type": "markdown",
      "metadata": {
        "id": "wFgKugSbEDyy"
      },
      "source": [
        "Here, we extract some of the columns from the dataset and analyze these data to get some useful informaton."
      ]
    },
    {
      "cell_type": "code",
      "metadata": {
        "id": "gYgNJFh18knZ"
      },
      "source": [
        "df =  df[['Year', 'Month', 'Extended', 'Day', 'Country', 'State', 'Region', 'City', 'Latitude', 'Longitude', 'Location', 'AttackType', 'Killed', 'Wounded', 'Total_casualities', 'Target', 'Summary', 'Group', 'Target_type', 'Weapon_type', 'Motive', 'Success']]\n"
      ],
      "execution_count": 32,
      "outputs": []
    },
    {
      "cell_type": "code",
      "metadata": {
        "colab": {
          "base_uri": "https://localhost:8080/",
          "height": 365
        },
        "id": "V2S2HwDk8kwr",
        "outputId": "900fbbeb-7d59-43f5-e80b-bba23fae696d"
      },
      "source": [
        "df.head()"
      ],
      "execution_count": 33,
      "outputs": [
        {
          "output_type": "execute_result",
          "data": {
            "text/html": [
              "<div>\n",
              "<style scoped>\n",
              "    .dataframe tbody tr th:only-of-type {\n",
              "        vertical-align: middle;\n",
              "    }\n",
              "\n",
              "    .dataframe tbody tr th {\n",
              "        vertical-align: top;\n",
              "    }\n",
              "\n",
              "    .dataframe thead th {\n",
              "        text-align: right;\n",
              "    }\n",
              "</style>\n",
              "<table border=\"1\" class=\"dataframe\">\n",
              "  <thead>\n",
              "    <tr style=\"text-align: right;\">\n",
              "      <th></th>\n",
              "      <th>Year</th>\n",
              "      <th>Month</th>\n",
              "      <th>Extended</th>\n",
              "      <th>Day</th>\n",
              "      <th>Country</th>\n",
              "      <th>State</th>\n",
              "      <th>Region</th>\n",
              "      <th>City</th>\n",
              "      <th>Latitude</th>\n",
              "      <th>Longitude</th>\n",
              "      <th>Location</th>\n",
              "      <th>AttackType</th>\n",
              "      <th>Killed</th>\n",
              "      <th>Wounded</th>\n",
              "      <th>Total_casualities</th>\n",
              "      <th>Target</th>\n",
              "      <th>Summary</th>\n",
              "      <th>Group</th>\n",
              "      <th>Target_type</th>\n",
              "      <th>Weapon_type</th>\n",
              "      <th>Motive</th>\n",
              "      <th>Success</th>\n",
              "    </tr>\n",
              "  </thead>\n",
              "  <tbody>\n",
              "    <tr>\n",
              "      <th>0</th>\n",
              "      <td>1970</td>\n",
              "      <td>7</td>\n",
              "      <td>0</td>\n",
              "      <td>2</td>\n",
              "      <td>Dominican Republic</td>\n",
              "      <td>NaN</td>\n",
              "      <td>Central America &amp; Caribbean</td>\n",
              "      <td>Santo Domingo</td>\n",
              "      <td>18.456792</td>\n",
              "      <td>-69.951164</td>\n",
              "      <td>NaN</td>\n",
              "      <td>Assassination</td>\n",
              "      <td>1.0</td>\n",
              "      <td>0.0</td>\n",
              "      <td>1.0</td>\n",
              "      <td>Julio Guzman</td>\n",
              "      <td>NaN</td>\n",
              "      <td>MANO-D</td>\n",
              "      <td>Private Citizens &amp; Property</td>\n",
              "      <td>Unknown</td>\n",
              "      <td>NaN</td>\n",
              "      <td>1</td>\n",
              "    </tr>\n",
              "    <tr>\n",
              "      <th>1</th>\n",
              "      <td>1970</td>\n",
              "      <td>0</td>\n",
              "      <td>0</td>\n",
              "      <td>0</td>\n",
              "      <td>Mexico</td>\n",
              "      <td>Federal</td>\n",
              "      <td>North America</td>\n",
              "      <td>Mexico city</td>\n",
              "      <td>19.371887</td>\n",
              "      <td>-99.086624</td>\n",
              "      <td>NaN</td>\n",
              "      <td>Hostage Taking (Kidnapping)</td>\n",
              "      <td>0.0</td>\n",
              "      <td>0.0</td>\n",
              "      <td>0.0</td>\n",
              "      <td>Nadine Chaval, daughter</td>\n",
              "      <td>NaN</td>\n",
              "      <td>23rd of September Communist League</td>\n",
              "      <td>Government (Diplomatic)</td>\n",
              "      <td>Unknown</td>\n",
              "      <td>NaN</td>\n",
              "      <td>1</td>\n",
              "    </tr>\n",
              "    <tr>\n",
              "      <th>2</th>\n",
              "      <td>1970</td>\n",
              "      <td>1</td>\n",
              "      <td>0</td>\n",
              "      <td>0</td>\n",
              "      <td>Philippines</td>\n",
              "      <td>Tarlac</td>\n",
              "      <td>Southeast Asia</td>\n",
              "      <td>Unknown</td>\n",
              "      <td>15.478598</td>\n",
              "      <td>120.599741</td>\n",
              "      <td>NaN</td>\n",
              "      <td>Assassination</td>\n",
              "      <td>1.0</td>\n",
              "      <td>0.0</td>\n",
              "      <td>1.0</td>\n",
              "      <td>Employee</td>\n",
              "      <td>NaN</td>\n",
              "      <td>Unknown</td>\n",
              "      <td>Journalists &amp; Media</td>\n",
              "      <td>Unknown</td>\n",
              "      <td>NaN</td>\n",
              "      <td>1</td>\n",
              "    </tr>\n",
              "    <tr>\n",
              "      <th>3</th>\n",
              "      <td>1970</td>\n",
              "      <td>1</td>\n",
              "      <td>0</td>\n",
              "      <td>0</td>\n",
              "      <td>Greece</td>\n",
              "      <td>Attica</td>\n",
              "      <td>Western Europe</td>\n",
              "      <td>Athens</td>\n",
              "      <td>37.997490</td>\n",
              "      <td>23.762728</td>\n",
              "      <td>NaN</td>\n",
              "      <td>Bombing/Explosion</td>\n",
              "      <td>NaN</td>\n",
              "      <td>NaN</td>\n",
              "      <td>NaN</td>\n",
              "      <td>U.S. Embassy</td>\n",
              "      <td>NaN</td>\n",
              "      <td>Unknown</td>\n",
              "      <td>Government (Diplomatic)</td>\n",
              "      <td>Explosives</td>\n",
              "      <td>NaN</td>\n",
              "      <td>1</td>\n",
              "    </tr>\n",
              "    <tr>\n",
              "      <th>4</th>\n",
              "      <td>1970</td>\n",
              "      <td>1</td>\n",
              "      <td>0</td>\n",
              "      <td>0</td>\n",
              "      <td>Japan</td>\n",
              "      <td>Fukouka</td>\n",
              "      <td>East Asia</td>\n",
              "      <td>Fukouka</td>\n",
              "      <td>33.580412</td>\n",
              "      <td>130.396361</td>\n",
              "      <td>NaN</td>\n",
              "      <td>Facility/Infrastructure Attack</td>\n",
              "      <td>NaN</td>\n",
              "      <td>NaN</td>\n",
              "      <td>NaN</td>\n",
              "      <td>U.S. Consulate</td>\n",
              "      <td>NaN</td>\n",
              "      <td>Unknown</td>\n",
              "      <td>Government (Diplomatic)</td>\n",
              "      <td>Incendiary</td>\n",
              "      <td>NaN</td>\n",
              "      <td>1</td>\n",
              "    </tr>\n",
              "  </tbody>\n",
              "</table>\n",
              "</div>"
            ],
            "text/plain": [
              "   Year  Month  Extended  ...  Weapon_type Motive Success\n",
              "0  1970      7         0  ...      Unknown    NaN       1\n",
              "1  1970      0         0  ...      Unknown    NaN       1\n",
              "2  1970      1         0  ...      Unknown    NaN       1\n",
              "3  1970      1         0  ...   Explosives    NaN       1\n",
              "4  1970      1         0  ...   Incendiary    NaN       1\n",
              "\n",
              "[5 rows x 22 columns]"
            ]
          },
          "metadata": {},
          "execution_count": 33
        }
      ]
    },
    {
      "cell_type": "markdown",
      "metadata": {
        "id": "9KB6TC79Eok-"
      },
      "source": [
        "#Checking for Null Values"
      ]
    },
    {
      "cell_type": "code",
      "metadata": {
        "colab": {
          "base_uri": "https://localhost:8080/"
        },
        "id": "Gwwjnz_Y8lGG",
        "outputId": "d16620b1-1828-4f2e-9077-96dcf3b08454"
      },
      "source": [
        "df.info()"
      ],
      "execution_count": 34,
      "outputs": [
        {
          "output_type": "stream",
          "name": "stdout",
          "text": [
            "<class 'pandas.core.frame.DataFrame'>\n",
            "RangeIndex: 181691 entries, 0 to 181690\n",
            "Data columns (total 22 columns):\n",
            " #   Column             Non-Null Count   Dtype  \n",
            "---  ------             --------------   -----  \n",
            " 0   Year               181691 non-null  int64  \n",
            " 1   Month              181691 non-null  int64  \n",
            " 2   Extended           181691 non-null  int64  \n",
            " 3   Day                181691 non-null  int64  \n",
            " 4   Country            181691 non-null  object \n",
            " 5   State              181270 non-null  object \n",
            " 6   Region             181691 non-null  object \n",
            " 7   City               181257 non-null  object \n",
            " 8   Latitude           177135 non-null  float64\n",
            " 9   Longitude          177134 non-null  float64\n",
            " 10  Location           55495 non-null   object \n",
            " 11  AttackType         181691 non-null  object \n",
            " 12  Killed             171378 non-null  float64\n",
            " 13  Wounded            165380 non-null  float64\n",
            " 14  Total_casualities  164817 non-null  float64\n",
            " 15  Target             181055 non-null  object \n",
            " 16  Summary            115562 non-null  object \n",
            " 17  Group              181691 non-null  object \n",
            " 18  Target_type        181691 non-null  object \n",
            " 19  Weapon_type        181691 non-null  object \n",
            " 20  Motive             50561 non-null   object \n",
            " 21  Success            181691 non-null  int64  \n",
            "dtypes: float64(5), int64(5), object(12)\n",
            "memory usage: 30.5+ MB\n"
          ]
        }
      ]
    },
    {
      "cell_type": "code",
      "metadata": {
        "colab": {
          "base_uri": "https://localhost:8080/"
        },
        "id": "ApTgIczEEuT3",
        "outputId": "ff6bcb61-cfbd-47da-c2d8-d1690553dd70"
      },
      "source": [
        "df.isnull().sum()"
      ],
      "execution_count": 35,
      "outputs": [
        {
          "output_type": "execute_result",
          "data": {
            "text/plain": [
              "Year                      0\n",
              "Month                     0\n",
              "Extended                  0\n",
              "Day                       0\n",
              "Country                   0\n",
              "State                   421\n",
              "Region                    0\n",
              "City                    434\n",
              "Latitude               4556\n",
              "Longitude              4557\n",
              "Location             126196\n",
              "AttackType                0\n",
              "Killed                10313\n",
              "Wounded               16311\n",
              "Total_casualities     16874\n",
              "Target                  636\n",
              "Summary               66129\n",
              "Group                     0\n",
              "Target_type               0\n",
              "Weapon_type               0\n",
              "Motive               131130\n",
              "Success                   0\n",
              "dtype: int64"
            ]
          },
          "metadata": {},
          "execution_count": 35
        }
      ]
    },
    {
      "cell_type": "markdown",
      "metadata": {
        "id": "QpdNJY5SHqFf"
      },
      "source": [
        "\n",
        "Here, we see some null values present in the dataset. But, they are not needed to be handled at this point because we are only exploring the data."
      ]
    },
    {
      "cell_type": "markdown",
      "metadata": {
        "id": "MOSUd7zsH_HG"
      },
      "source": [
        "#Exploratory Data Analysis and Data Visualization"
      ]
    },
    {
      "cell_type": "markdown",
      "metadata": {
        "id": "qYEnJ5N5II1g"
      },
      "source": [
        "#Correlation Heatmap for the features"
      ]
    },
    {
      "cell_type": "code",
      "metadata": {
        "id": "XH3j8DQ3IErI"
      },
      "source": [
        "corr  =  df.corr()"
      ],
      "execution_count": 37,
      "outputs": []
    },
    {
      "cell_type": "code",
      "metadata": {
        "colab": {
          "base_uri": "https://localhost:8080/",
          "height": 504
        },
        "id": "Y3-aibkiINI8",
        "outputId": "b232b671-990f-4bb3-abfa-ec9552e07db4"
      },
      "source": [
        "plt.figure(figsize=(10,7))\n",
        "sns.heatmap(corr, annot =  True, cmap = 'YlOrRd')\n",
        "plt.show()"
      ],
      "execution_count": 38,
      "outputs": [
        {
          "output_type": "display_data",
          "data": {
            "image/png": "[encoded data removed]",
            "text/plain": [
              "<Figure size 720x504 with 2 Axes>"
            ]
          },
          "metadata": {
            "needs_background": "light"
          }
        }
      ]
    },
    {
      "cell_type": "markdown",
      "metadata": {
        "id": "7c-uxQVxIcyA"
      },
      "source": [
        "#Number of Terrorists Activities per Year"
      ]
    },
    {
      "cell_type": "markdown",
      "metadata": {
        "id": "nzNUFiu3IhAE"
      },
      "source": [
        "Now we will see the visualization between Number of terrorists activities and Year"
      ]
    },
    {
      "cell_type": "code",
      "metadata": {
        "id": "B3J5Zn6WIXNU"
      },
      "source": [
        "count =  df['Year'].value_counts()\n",
        "year = count.index.sort_values(ascending  = True)\n",
        "val = []\n",
        "for i in year:\n",
        "    val.append(count[i])"
      ],
      "execution_count": 39,
      "outputs": []
    },
    {
      "cell_type": "code",
      "metadata": {
        "colab": {
          "base_uri": "https://localhost:8080/",
          "height": 680
        },
        "id": "-noShYp5Ipdf",
        "outputId": "fd48380e-664c-4503-d9a9-4bc598230cdc"
      },
      "source": [
        "plt.figure(figsize = (20,10))\n",
        "plt.bar(year, val, tick_label = year, color = 'red')\n",
        "plt.xticks(rotation  = 90)\n",
        "plt.title('Number of Terrorists Activities Per Year', fontsize=24)  \n",
        "plt.xlabel('Year', fontsize = 18, labelpad = 30)\n",
        "plt.ylabel('Number of terrorists attacks', fontsize = 18, labelpad = 30)\n",
        "plt.grid(True)\n",
        "plt.show()"
      ],
      "execution_count": 40,
      "outputs": [
        {
          "output_type": "display_data",
          "data": {
            "image/png": "[encoded data removed]",
            "text/plain": [
              "<Figure size 1440x720 with 1 Axes>"
            ]
          },
          "metadata": {
            "needs_background": "light"
          }
        }
      ]
    },
    {
      "cell_type": "markdown",
      "metadata": {
        "id": "K1FBlESoI6qc"
      },
      "source": [
        "#outcome:"
      ]
    },
    {
      "cell_type": "markdown",
      "metadata": {
        "id": "Hk5LgD9ZJFFo"
      },
      "source": [
        "Here usually, as the Time proceeds the Number of Terrorists Attacks also Increased.\n",
        "The peak in terms of Number of Terrorists Attacks was observed in 2014.\n",
        "A Decline in terms of Number of Terrorists Attacks has been observed since 2015 which shows the progress towards the mission of reducing such terrorists attacks.\n"
      ]
    },
    {
      "cell_type": "markdown",
      "metadata": {
        "id": "UVFaQIxpJp1v"
      },
      "source": [
        "#Total Casualties Per Year"
      ]
    },
    {
      "cell_type": "code",
      "metadata": {
        "id": "zaq7kRzRIux5"
      },
      "source": [
        "Cas_Year  = df.groupby(by = df['Year']).Total_casualities.sum().to_frame().reset_index()"
      ],
      "execution_count": 41,
      "outputs": []
    },
    {
      "cell_type": "code",
      "metadata": {
        "colab": {
          "base_uri": "https://localhost:8080/",
          "height": 684
        },
        "id": "Wa3QzUUNJvq5",
        "outputId": "9b6bafe1-dec1-4165-cf06-608135ce7bb3"
      },
      "source": [
        "plt.figure(figsize = (20,10))\n",
        "plt.bar(Cas_Year['Year'], Cas_Year['Total_casualities'], tick_label = Cas_Year['Year'], color =  'orange')\n",
        "plt.xticks(rotation  = 90)\n",
        "plt.title('Total Casualties Per Year', fontsize=30)  \n",
        "plt.grid(True)\n",
        "plt.xlabel('Year', fontsize = 18, labelpad = 30)\n",
        "plt.ylabel('Casualities (Killed + Injured)', fontsize = 18, labelpad = 30)\n",
        "plt.show()"
      ],
      "execution_count": 42,
      "outputs": [
        {
          "output_type": "display_data",
          "data": {
            "image/png": "[encoded data removed]",
            "text/plain": [
              "<Figure size 1440x720 with 1 Axes>"
            ]
          },
          "metadata": {
            "needs_background": "light"
          }
        }
      ]
    },
    {
      "cell_type": "markdown",
      "metadata": {
        "id": "_e48cq0uJ8vy"
      },
      "source": [
        "#outcome:"
      ]
    },
    {
      "cell_type": "markdown",
      "metadata": {
        "id": "oHXwMO8JKSKf"
      },
      "source": [
        ""
      ]
    },
    {
      "cell_type": "markdown",
      "metadata": {
        "id": "e0KuvQaNKVWw"
      },
      "source": [
        "Here usually, as the Time proceeds the Number of People Harmed (Killed or Injured) also Increased Significantly.\n",
        "The peak in terms of Number of People Harmed was observed in 2015 with 70K+ casualties.\n",
        "Though there has been a decline in the Number of People Harmed after 2016 but these numbers are still very large and need to be reduced as soon as possible"
      ]
    },
    {
      "cell_type": "markdown",
      "metadata": {
        "id": "ni2bTLqyKx8x"
      },
      "source": [
        "#Countries affected by Terrorist Attacks"
      ]
    },
    {
      "cell_type": "code",
      "metadata": {
        "colab": {
          "base_uri": "https://localhost:8080/"
        },
        "id": "aJtOObAjKOmd",
        "outputId": "529ca7e5-07b6-4c84-9692-b53f7ff1bf55"
      },
      "source": [
        "country = df['Country'].value_counts().index.tolist()\n",
        "print(\"Number of Countries affected by Terrorist Attacks :\", len(country))"
      ],
      "execution_count": 44,
      "outputs": [
        {
          "output_type": "stream",
          "name": "stdout",
          "text": [
            "Number of Countries affected by Terrorist Attacks : 205\n"
          ]
        }
      ]
    },
    {
      "cell_type": "markdown",
      "metadata": {
        "id": "07Bam_gxK9-3"
      },
      "source": [
        "Now we will see, Top 30 Countries that are affected by Terrorist Attacks"
      ]
    },
    {
      "cell_type": "code",
      "metadata": {
        "colab": {
          "base_uri": "https://localhost:8080/",
          "height": 658
        },
        "id": "jjEN4EDBK3SP",
        "outputId": "2cd66446-18a8-41bf-f2eb-c33b921b0632"
      },
      "source": [
        "fig = plt.figure(figsize=(10,8))\n",
        "sns.barplot(df['Country'].value_counts()[0:30].index, df['Country'].value_counts()[0:30].values,palette='viridis',  tick_label = country[0:30])\n",
        "plt.xticks(rotation = 90)\n",
        "plt.title('Countries affected by Terrorist Attacks', fontsize =  20)\n",
        "plt.xlabel('Countries', fontsize = 16, labelpad = 20)\n",
        "plt.ylabel('Number of terrorists attacks', fontsize = 16, labelpad = 20)\n",
        "plt.show()"
      ],
      "execution_count": 45,
      "outputs": [
        {
          "output_type": "display_data",
          "data": {
            "image/png": "[encoded data removed]",
            "text/plain": [
              "<Figure size 720x576 with 1 Axes>"
            ]
          },
          "metadata": {
            "needs_background": "light"
          }
        }
      ]
    },
    {
      "cell_type": "markdown",
      "metadata": {
        "id": "csGSYKGNLRiW"
      },
      "source": [
        "#outcome:"
      ]
    },
    {
      "cell_type": "markdown",
      "metadata": {
        "id": "ieQ-IdezLhJ5"
      },
      "source": [
        "The above image shows the Top 30 countries in terms of most number of terrorist attacks.\n",
        "The top country which is most affected by terrorist attacks is Iraq.\n",
        "The top 5 countries most affected by terrorist attacks are Iraq, Pakistan, Afganistan, India, and Colombia."
      ]
    },
    {
      "cell_type": "markdown",
      "metadata": {
        "id": "fZ79mCa_LpFH"
      },
      "source": [
        "#Number of Total Casualities in Each Country"
      ]
    },
    {
      "cell_type": "code",
      "metadata": {
        "colab": {
          "base_uri": "https://localhost:8080/",
          "height": 990
        },
        "id": "Ntvq6cYmLKrM",
        "outputId": "c3e27521-5ca5-416d-8fcd-ee085c29b3e8"
      },
      "source": [
        "count_cas = df.groupby('Country').Total_casualities.sum().to_frame().reset_index().sort_values('Total_casualities', ascending=False)\n",
        "count_cas.head(30)"
      ],
      "execution_count": 46,
      "outputs": [
        {
          "output_type": "execute_result",
          "data": {
            "text/html": [
              "<div>\n",
              "<style scoped>\n",
              "    .dataframe tbody tr th:only-of-type {\n",
              "        vertical-align: middle;\n",
              "    }\n",
              "\n",
              "    .dataframe tbody tr th {\n",
              "        vertical-align: top;\n",
              "    }\n",
              "\n",
              "    .dataframe thead th {\n",
              "        text-align: right;\n",
              "    }\n",
              "</style>\n",
              "<table border=\"1\" class=\"dataframe\">\n",
              "  <thead>\n",
              "    <tr style=\"text-align: right;\">\n",
              "      <th></th>\n",
              "      <th>Country</th>\n",
              "      <th>Total_casualities</th>\n",
              "    </tr>\n",
              "  </thead>\n",
              "  <tbody>\n",
              "    <tr>\n",
              "      <th>84</th>\n",
              "      <td>Iraq</td>\n",
              "      <td>202982.0</td>\n",
              "    </tr>\n",
              "    <tr>\n",
              "      <th>0</th>\n",
              "      <td>Afghanistan</td>\n",
              "      <td>80213.0</td>\n",
              "    </tr>\n",
              "    <tr>\n",
              "      <th>134</th>\n",
              "      <td>Pakistan</td>\n",
              "      <td>64427.0</td>\n",
              "    </tr>\n",
              "    <tr>\n",
              "      <th>80</th>\n",
              "      <td>India</td>\n",
              "      <td>47108.0</td>\n",
              "    </tr>\n",
              "    <tr>\n",
              "      <th>167</th>\n",
              "      <td>Sri Lanka</td>\n",
              "      <td>29792.0</td>\n",
              "    </tr>\n",
              "    <tr>\n",
              "      <th>189</th>\n",
              "      <td>United States</td>\n",
              "      <td>24469.0</td>\n",
              "    </tr>\n",
              "    <tr>\n",
              "      <th>35</th>\n",
              "      <td>Colombia</td>\n",
              "      <td>23767.0</td>\n",
              "    </tr>\n",
              "    <tr>\n",
              "      <th>140</th>\n",
              "      <td>Philippines</td>\n",
              "      <td>22361.0</td>\n",
              "    </tr>\n",
              "    <tr>\n",
              "      <th>130</th>\n",
              "      <td>Nigeria</td>\n",
              "      <td>21728.0</td>\n",
              "    </tr>\n",
              "    <tr>\n",
              "      <th>175</th>\n",
              "      <td>Syria</td>\n",
              "      <td>21614.0</td>\n",
              "    </tr>\n",
              "    <tr>\n",
              "      <th>2</th>\n",
              "      <td>Algeria</td>\n",
              "      <td>19296.0</td>\n",
              "    </tr>\n",
              "    <tr>\n",
              "      <th>159</th>\n",
              "      <td>Somalia</td>\n",
              "      <td>16720.0</td>\n",
              "    </tr>\n",
              "    <tr>\n",
              "      <th>183</th>\n",
              "      <td>Turkey</td>\n",
              "      <td>16694.0</td>\n",
              "    </tr>\n",
              "    <tr>\n",
              "      <th>200</th>\n",
              "      <td>Yemen</td>\n",
              "      <td>16288.0</td>\n",
              "    </tr>\n",
              "    <tr>\n",
              "      <th>139</th>\n",
              "      <td>Peru</td>\n",
              "      <td>16246.0</td>\n",
              "    </tr>\n",
              "    <tr>\n",
              "      <th>52</th>\n",
              "      <td>El Salvador</td>\n",
              "      <td>16181.0</td>\n",
              "    </tr>\n",
              "    <tr>\n",
              "      <th>99</th>\n",
              "      <td>Lebanon</td>\n",
              "      <td>14765.0</td>\n",
              "    </tr>\n",
              "    <tr>\n",
              "      <th>147</th>\n",
              "      <td>Russia</td>\n",
              "      <td>11126.0</td>\n",
              "    </tr>\n",
              "    <tr>\n",
              "      <th>179</th>\n",
              "      <td>Thailand</td>\n",
              "      <td>10476.0</td>\n",
              "    </tr>\n",
              "    <tr>\n",
              "      <th>128</th>\n",
              "      <td>Nicaragua</td>\n",
              "      <td>10437.0</td>\n",
              "    </tr>\n",
              "    <tr>\n",
              "      <th>86</th>\n",
              "      <td>Israel</td>\n",
              "      <td>9426.0</td>\n",
              "    </tr>\n",
              "    <tr>\n",
              "      <th>13</th>\n",
              "      <td>Bangladesh</td>\n",
              "      <td>9225.0</td>\n",
              "    </tr>\n",
              "    <tr>\n",
              "      <th>51</th>\n",
              "      <td>Egypt</td>\n",
              "      <td>8655.0</td>\n",
              "    </tr>\n",
              "    <tr>\n",
              "      <th>93</th>\n",
              "      <td>Kenya</td>\n",
              "      <td>7948.0</td>\n",
              "    </tr>\n",
              "    <tr>\n",
              "      <th>188</th>\n",
              "      <td>United Kingdom</td>\n",
              "      <td>7591.0</td>\n",
              "    </tr>\n",
              "    <tr>\n",
              "      <th>160</th>\n",
              "      <td>South Africa</td>\n",
              "      <td>7113.0</td>\n",
              "    </tr>\n",
              "    <tr>\n",
              "      <th>90</th>\n",
              "      <td>Japan</td>\n",
              "      <td>7013.0</td>\n",
              "    </tr>\n",
              "    <tr>\n",
              "      <th>27</th>\n",
              "      <td>Burundi</td>\n",
              "      <td>6169.0</td>\n",
              "    </tr>\n",
              "    <tr>\n",
              "      <th>166</th>\n",
              "      <td>Spain</td>\n",
              "      <td>6135.0</td>\n",
              "    </tr>\n",
              "    <tr>\n",
              "      <th>71</th>\n",
              "      <td>Guatemala</td>\n",
              "      <td>6101.0</td>\n",
              "    </tr>\n",
              "  </tbody>\n",
              "</table>\n",
              "</div>"
            ],
            "text/plain": [
              "            Country  Total_casualities\n",
              "84             Iraq           202982.0\n",
              "0       Afghanistan            80213.0\n",
              "134        Pakistan            64427.0\n",
              "80            India            47108.0\n",
              "167       Sri Lanka            29792.0\n",
              "189   United States            24469.0\n",
              "35         Colombia            23767.0\n",
              "140     Philippines            22361.0\n",
              "130         Nigeria            21728.0\n",
              "175           Syria            21614.0\n",
              "2           Algeria            19296.0\n",
              "159         Somalia            16720.0\n",
              "183          Turkey            16694.0\n",
              "200           Yemen            16288.0\n",
              "139            Peru            16246.0\n",
              "52      El Salvador            16181.0\n",
              "99          Lebanon            14765.0\n",
              "147          Russia            11126.0\n",
              "179        Thailand            10476.0\n",
              "128       Nicaragua            10437.0\n",
              "86           Israel             9426.0\n",
              "13       Bangladesh             9225.0\n",
              "51            Egypt             8655.0\n",
              "93            Kenya             7948.0\n",
              "188  United Kingdom             7591.0\n",
              "160    South Africa             7113.0\n",
              "90            Japan             7013.0\n",
              "27          Burundi             6169.0\n",
              "166           Spain             6135.0\n",
              "71        Guatemala             6101.0"
            ]
          },
          "metadata": {},
          "execution_count": 46
        }
      ]
    },
    {
      "cell_type": "markdown",
      "metadata": {
        "id": "02JSM_vsL1TO"
      },
      "source": [
        "Now we will see, Top 30 Countries in terms of Causalities"
      ]
    },
    {
      "cell_type": "code",
      "metadata": {
        "colab": {
          "base_uri": "https://localhost:8080/",
          "height": 490
        },
        "id": "SzW4rGwgLuqa",
        "outputId": "d769547e-bfeb-489b-9bc4-38814671121a"
      },
      "source": [
        "plt.subplots(figsize=(15,6))\n",
        "sns.barplot(x=count_cas.Country[0:30], y=count_cas.Total_casualities[0:30], palette= 'cubehelix',edgecolor=sns.color_palette('dark',10))\n",
        "plt.xticks(rotation=90)\n",
        "plt.title('Number of Total Casualities in Each Country', fontsize  = 20)\n",
        "plt.xlabel(\"Countries\", fontsize = 16, labelpad = 10)\n",
        "plt.ylabel(\"Total_Causalities\", fontsize = 16, labelpad = 10)\n",
        "plt.show()"
      ],
      "execution_count": 47,
      "outputs": [
        {
          "output_type": "display_data",
          "data": {
            "image/png": "[encoded data removed]",
            "text/plain": [
              "<Figure size 1080x432 with 1 Axes>"
            ]
          },
          "metadata": {
            "needs_background": "light"
          }
        }
      ]
    },
    {
      "cell_type": "markdown",
      "metadata": {
        "id": "NzB8-7F8MCgj"
      },
      "source": [
        "#outcome:"
      ]
    },
    {
      "cell_type": "markdown",
      "metadata": {
        "id": "8qRcMdlxMMax"
      },
      "source": [
        "The above image shows the Most Number of Total Casualities in Each Country.\n",
        "The most affected country by Total Casualities is Iraq with 200K+ Casualities.\n",
        "The top 5 countries most affected by terrorist attacks are Iraq, Afganistan, Pakistan, India, Sri Lanka."
      ]
    },
    {
      "cell_type": "markdown",
      "metadata": {
        "id": "zjhfRvE6MXh5"
      },
      "source": [
        "#Most Affected States by Terrorist Attacks"
      ]
    },
    {
      "cell_type": "code",
      "metadata": {
        "colab": {
          "base_uri": "https://localhost:8080/"
        },
        "id": "EIZ32JU4L9Hq",
        "outputId": "30526b8d-4b62-4187-dde7-471159b1afb5"
      },
      "source": [
        "state_aff = df['State'].value_counts()\n",
        "print(\"Number of States affected by Terrorist Attacks :\", len(state_aff))"
      ],
      "execution_count": 48,
      "outputs": [
        {
          "output_type": "stream",
          "name": "stdout",
          "text": [
            "Number of States affected by Terrorist Attacks : 2855\n"
          ]
        }
      ]
    },
    {
      "cell_type": "markdown",
      "metadata": {
        "id": "0bK5IeucMk0r"
      },
      "source": [
        "Now we will see, Top 30 states affected by the Terrorist Attacks."
      ]
    },
    {
      "cell_type": "code",
      "metadata": {
        "colab": {
          "base_uri": "https://localhost:8080/",
          "height": 641
        },
        "id": "SPzilh5kMdal",
        "outputId": "143b2c12-b865-43c7-eb05-30a1645e87cf"
      },
      "source": [
        "fig = plt.figure(figsize=(17,7))\n",
        "sns.barplot(state_aff[0:30].index, state_aff[0:30].values, palette='rainbow')\n",
        "plt.title('Top 30 Most Affected States by Terrorist Attacks', fontsize =  20)\n",
        "plt.xlabel('States', fontsize = 16, labelpad = 10)\n",
        "plt.ylabel('Number of Terrorist Attacks', fontsize = 16, labelpad = 10)\n",
        "plt.xticks(rotation=90)\n",
        "plt.show()"
      ],
      "execution_count": 49,
      "outputs": [
        {
          "output_type": "display_data",
          "data": {
            "image/png": "[encoded data removed]",
            "text/plain": [
              "<Figure size 1224x504 with 1 Axes>"
            ]
          },
          "metadata": {
            "needs_background": "light"
          }
        }
      ]
    },
    {
      "cell_type": "markdown",
      "metadata": {
        "id": "fKnO4NuLMy00"
      },
      "source": [
        "#outcome:"
      ]
    },
    {
      "cell_type": "markdown",
      "metadata": {
        "id": "EAyct3R_M7aN"
      },
      "source": [
        "The above image shows the Top 30 states in terms of most number of terrorist attacks.\n",
        "The most affected state by terrorist attacks is Baghdadm with 7500+ Terrorist Attacks.\n",
        "The top 5 states most affected by terrorist attacks are Baghdadm, Northern Ireland, Balochistan, Saladin, Al Anbar.\n"
      ]
    },
    {
      "cell_type": "markdown",
      "metadata": {
        "id": "_1INoVY7NBEN"
      },
      "source": [
        "#Most Affected Regions by Terrorist Attacks"
      ]
    },
    {
      "cell_type": "code",
      "metadata": {
        "colab": {
          "base_uri": "https://localhost:8080/"
        },
        "id": "W4-V7w7QMt17",
        "outputId": "a438ffe3-fd24-4188-9912-4531b390781b"
      },
      "source": [
        "region_aff = df['Region'].value_counts()\n",
        "print(\"Number of Regions affected by the Terrorist Attacks :\", len(region_aff))"
      ],
      "execution_count": 50,
      "outputs": [
        {
          "output_type": "stream",
          "name": "stdout",
          "text": [
            "Number of Regions affected by the Terrorist Attacks : 12\n"
          ]
        }
      ]
    },
    {
      "cell_type": "markdown",
      "metadata": {
        "id": "j_9VSd8SNLzu"
      },
      "source": [
        "Now we will see, Top 30 Regions affected by the Terrorist Attacks"
      ]
    },
    {
      "cell_type": "code",
      "metadata": {
        "colab": {
          "base_uri": "https://localhost:8080/",
          "height": 556
        },
        "id": "fS-FywuVNPiJ",
        "outputId": "60da8fc8-75ab-4a65-e66e-f47e41922b65"
      },
      "source": [
        "fig = plt.figure(figsize=(11,6))\n",
        "sns.barplot(region_aff.index, region_aff.values, tick_label = region_aff.index)\n",
        "plt.title('Most Affected Regions by Terrorist Attacks', fontsize =20)\n",
        "plt.xlabel('Regions', fontsize = 16, labelpad = 10)\n",
        "plt.ylabel('Number of terrorist attacks', fontsize = 16, labelpad = 10)\n",
        "plt.xticks(rotation=90)\n",
        "plt.show()"
      ],
      "execution_count": 51,
      "outputs": [
        {
          "output_type": "display_data",
          "data": {
            "image/png": "[encoded data removed]",
            "text/plain": [
              "<Figure size 792x432 with 1 Axes>"
            ]
          },
          "metadata": {
            "needs_background": "light"
          }
        }
      ]
    },
    {
      "cell_type": "markdown",
      "metadata": {
        "id": "3tgLDcIXNk_7"
      },
      "source": [
        "#outcome:"
      ]
    },
    {
      "cell_type": "markdown",
      "metadata": {
        "id": "vdZW_WDyNs6f"
      },
      "source": [
        "The above image shows the top regions in terms of most number of terrorist attacks.\n",
        "The most affected region by terrorist attacks is Middle East and North Africa with 50K+ Terrorist Attacks.\n",
        "The top 5 regions most affected by terrorist attacks are Middle East & North Africa, South Asia, South America, Sub-Saharan Africa, Western Europe.\n"
      ]
    },
    {
      "cell_type": "markdown",
      "metadata": {
        "id": "pAU97N8nNxj7"
      },
      "source": [
        "#Number of Terrorist Attacks v/s Terrorist Groups"
      ]
    },
    {
      "cell_type": "code",
      "metadata": {
        "colab": {
          "base_uri": "https://localhost:8080/"
        },
        "id": "eKkCsXrMNIHy",
        "outputId": "8c594760-9da8-4da5-c2bf-79ef8a96a037"
      },
      "source": [
        "terror_grps = df['Group'].value_counts()\n",
        "print(\"Number of Terrorist groups that attacks :\", len(terror_grps))"
      ],
      "execution_count": 52,
      "outputs": [
        {
          "output_type": "stream",
          "name": "stdout",
          "text": [
            "Number of Terrorist groups that attacks : 3537\n"
          ]
        }
      ]
    },
    {
      "cell_type": "markdown",
      "metadata": {
        "id": "6y7mA2gFN7_X"
      },
      "source": [
        "Now we will see, Top 10 Terrorist groups with most number of Attacks"
      ]
    },
    {
      "cell_type": "code",
      "metadata": {
        "colab": {
          "base_uri": "https://localhost:8080/",
          "height": 656
        },
        "id": "frS9QjOUN2cw",
        "outputId": "2212e86a-25e0-420f-a13f-ba021987d8c4"
      },
      "source": [
        "fig = plt.figure(figsize=(15,6))\n",
        "sns.barplot(terror_grps[1:11].index, terror_grps[1:11].values, palette='rainbow')\n",
        "plt.title('Groups with Most Terrorist Attacks', fontsize  = 20)\n",
        "plt.xlabel('Terrorist Groups', fontsize = 16, labelpad = 10)\n",
        "plt.ylabel('Number of Terrorist Attacks', fontsize = 16, labelpad = 10)\n",
        "plt.xticks(rotation=90)\n",
        "plt.show()"
      ],
      "execution_count": 53,
      "outputs": [
        {
          "output_type": "display_data",
          "data": {
            "image/png": "[encoded data removed]",
            "text/plain": [
              "<Figure size 1080x432 with 1 Axes>"
            ]
          },
          "metadata": {
            "needs_background": "light"
          }
        }
      ]
    },
    {
      "cell_type": "markdown",
      "metadata": {
        "id": "rcHG38k2OKCI"
      },
      "source": [
        "#outcome:"
      ]
    },
    {
      "cell_type": "markdown",
      "metadata": {
        "id": "CuVI7t0GOTeK"
      },
      "source": [
        "The above image shows the top Groups with Most No. of Terrorist Attacks.\n",
        "The Terrorist Group with Most No. of Terrorist Attacks is Taliban with 7K+ Terrorist Attacks.\n",
        "The top 5 Groups with Most No. of Terrorist Attacks are 'Taliban', 'Islamic State of Iraq and the Levant (ISIL)', 'Shining Path (SL)', 'Farabundo Marti National Liberation Front (FMLN)', 'Al-Shabaab'.\n"
      ]
    },
    {
      "cell_type": "markdown",
      "metadata": {
        "id": "lcsACQK4OdRf"
      },
      "source": [
        "#Types of Attacks executed by Terrorists"
      ]
    },
    {
      "cell_type": "code",
      "metadata": {
        "colab": {
          "base_uri": "https://localhost:8080/"
        },
        "id": "_eUy6_z1OD6K",
        "outputId": "fe0d4096-15b4-462c-f40c-9120d794f337"
      },
      "source": [
        "attack_types = df['AttackType'].value_counts()\n",
        "print(\"Number of types of attacks executed by Terrorists :\", len(attack_types))"
      ],
      "execution_count": 54,
      "outputs": [
        {
          "output_type": "stream",
          "name": "stdout",
          "text": [
            "Number of types of attacks executed by Terrorists : 9\n"
          ]
        }
      ]
    },
    {
      "cell_type": "code",
      "metadata": {
        "colab": {
          "base_uri": "https://localhost:8080/",
          "height": 589
        },
        "id": "gc0Mc19hOm6E",
        "outputId": "88dcf750-068e-42d1-f102-3b00f43501a4"
      },
      "source": [
        "fig = plt.figure(figsize=(15,6))\n",
        "sns.barplot(attack_types.index, attack_types.values, palette='deep')\n",
        "plt.xticks(rotation=90)\n",
        "plt.title(\"Most Used Attack Types by Terrorist\", fontsize  = 20)\n",
        "plt.xlabel(\"Types of Attacks\", fontsize = 16, labelpad = 10)\n",
        "plt.ylabel(\"Number of Terrorist Attacks\", fontsize = 16, labelpad = 10)\n",
        "plt.show()"
      ],
      "execution_count": 55,
      "outputs": [
        {
          "output_type": "display_data",
          "data": {
            "image/png": "[encoded data removed]",
            "text/plain": [
              "<Figure size 1080x432 with 1 Axes>"
            ]
          },
          "metadata": {
            "needs_background": "light"
          }
        }
      ]
    },
    {
      "cell_type": "markdown",
      "metadata": {
        "id": "JcWZDucOOyX5"
      },
      "source": [
        "#outcome:"
      ]
    },
    {
      "cell_type": "markdown",
      "metadata": {
        "id": "EWwTiavxO5KM"
      },
      "source": [
        "The above image shows the Most Used Attack Types by Terrorists.\n",
        "The Most Used Attack Type by Terrorists is Bombing/Explosion.\n",
        "The top 5 Attack Types used by Terrorists are Bombing/Explosion, Armed Assault, Assassination, Hostage Taking (Kidnapping), Facility/Infrastructure Attack.\n"
      ]
    },
    {
      "cell_type": "markdown",
      "metadata": {
        "id": "9qarGX51O9qT"
      },
      "source": [
        "#Most frequent targets of terrorists"
      ]
    },
    {
      "cell_type": "code",
      "metadata": {
        "colab": {
          "base_uri": "https://localhost:8080/",
          "height": 553
        },
        "id": "7uvgyHv3OsD9",
        "outputId": "811fb0b7-6df6-44d9-f8fe-59656f1bc52f"
      },
      "source": [
        "fig = plt.figure(figsize=(15,6))\n",
        "sns.countplot('Target_type', data=df, order = df['Target_type'].value_counts().index, palette='coolwarm')\n",
        "plt.xticks(rotation=90)\n",
        "plt.title(\"Most frequent target types of terrorists\", fontsize =  20)\n",
        "plt.xlabel(\"Targets\", fontsize = 16, labelpad =  10)\n",
        "plt.ylabel(\"Number of Terrorist Attacks\", fontsize = 16, labelpad = 10)\n",
        "plt.show()"
      ],
      "execution_count": 56,
      "outputs": [
        {
          "output_type": "display_data",
          "data": {
            "image/png": "[encoded data removed]",
            "text/plain": [
              "<Figure size 1080x432 with 1 Axes>"
            ]
          },
          "metadata": {
            "needs_background": "light"
          }
        }
      ]
    },
    {
      "cell_type": "markdown",
      "metadata": {
        "id": "GrkowyzhPIFe"
      },
      "source": [
        "#outcome:"
      ]
    },
    {
      "cell_type": "markdown",
      "metadata": {
        "id": "gSomkGppQg4k"
      },
      "source": [
        "The above image shows the Most frequent target types of terrorists.\n",
        "The Most frequent target type of terrorists is Private Citizens & Property.\n",
        "The top 5 Most frequent target type of terrorists are 'Private Citizens & Property', 'Military', 'Police', 'Government (General)', 'Business'.\n"
      ]
    },
    {
      "cell_type": "markdown",
      "metadata": {
        "id": "h-tQQ-dTQoSv"
      },
      "source": [
        "#Final Outcomes"
      ]
    },
    {
      "cell_type": "markdown",
      "metadata": {
        "id": "Pg00LcEJRinb"
      },
      "source": [
        "1.The most affected region by terrorist attacks is Middle East and North Africa with 50K+ Terrorist Attacks.\n",
        "\n",
        "2.The peak in terms of Number of Terrorists Attacks was observed in 2014.\n",
        "\n",
        "3.The country which is most affected by terrorist attacks is Iraq.\n",
        "\n",
        "4.The peak in terms of Number of People Harmed was observed in 2015 with 70K+ casualties.\n",
        "\n",
        "5.The most affected Country by Total Casualities is Iraq with 200K+ Casualities.\n",
        "\n",
        "6.The most affected State by Terrorist Attacks is Baghdadm with 7500+ Terrorist Attacks.\n",
        "\n",
        "7.The Terrorist Group with Most No. of Terrorist Attacks is Taliban with 7K+ Terrorist Attacks.\n",
        "\n",
        "8.The Most Used Attack Type by Terrorists is Bombing.\n",
        "\n",
        "9.The Most frequent target type of terrorists is Private Citizens & Property"
      ]
    }
  ]
}